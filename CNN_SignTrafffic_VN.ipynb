{
  "cells": [
    {
      "cell_type": "code",
      "execution_count": null,
      "metadata": {
        "colab": {
          "base_uri": "https://localhost:8080/"
        },
        "id": "A2gJh0dgGQMV",
        "outputId": "43624f04-2de9-4a85-ba53-4c1ff8e4c03c"
      },
      "outputs": [
        {
          "output_type": "stream",
          "name": "stdout",
          "text": [
            "Mounted at /content/drive\n"
          ]
        }
      ],
      "source": [
        "from google.colab import drive\n",
        "drive.mount('/content/drive')"
      ]
    },
    {
      "cell_type": "code",
      "execution_count": null,
      "metadata": {
        "colab": {
          "base_uri": "https://localhost:8080/"
        },
        "id": "BepOXmSlHcsK",
        "outputId": "7a12b37a-8efe-435c-f73a-93da5b7f2dd0"
      },
      "outputs": [
        {
          "name": "stdout",
          "output_type": "stream",
          "text": [
            "Mounted at /content/drive\n",
            "Found 7770 images belonging to 121 classes.\n",
            "Found 405 images belonging to 121 classes.\n"
          ]
        }
      ],
      "source": [
        "from tensorflow.keras.preprocessing.image import ImageDataGenerator\n",
        "drive.mount('/content/drive',force_remount=True)\n",
        "\n",
        "train_datagen = ImageDataGenerator(rescale=1./255,\n",
        "                                   shear_range=0.2,\n",
        "                                   zoom_range=0.2,\n",
        "                                   horizontal_flip=True)\n",
        "train=train_datagen.flow_from_directory('/content/drive/MyDrive/Train',\n",
        "                                               target_size=(64,64),\n",
        "                                               batch_size=32,\n",
        "                                               class_mode ='categorical')\n",
        "test=train_datagen.flow_from_directory('/content/drive/MyDrive/Dataset_trafficsignsVN/Test',\n",
        "                                               target_size=(64,64),\n",
        "                                               batch_size=32,\n",
        "                                               class_mode ='categorical')"
      ]
    },
    {
      "cell_type": "code",
      "execution_count": null,
      "metadata": {
        "colab": {
          "base_uri": "https://localhost:8080/",
          "height": 760
        },
        "id": "Dy6VvFIKJlNh",
        "outputId": "1fdcddba-ad90-4fb1-d433-d9a4b6ef416f"
      },
      "outputs": [
        {
          "name": "stderr",
          "output_type": "stream",
          "text": [
            "/usr/local/lib/python3.11/dist-packages/keras/src/layers/convolutional/base_conv.py:107: UserWarning: Do not pass an `input_shape`/`input_dim` argument to a layer. When using Sequential models, prefer using an `Input(shape)` object as the first layer in the model instead.\n",
            "  super().__init__(activity_regularizer=activity_regularizer, **kwargs)\n"
          ]
        },
        {
          "data": {
            "text/html": [
              "<pre style=\"white-space:pre;overflow-x:auto;line-height:normal;font-family:Menlo,'DejaVu Sans Mono',consolas,'Courier New',monospace\"><span style=\"font-weight: bold\">Model: \"sequential\"</span>\n",
              "</pre>\n"
            ],
            "text/plain": [
              "\u001b[1mModel: \"sequential\"\u001b[0m\n"
            ]
          },
          "metadata": {},
          "output_type": "display_data"
        },
        {
          "data": {
            "text/html": [
              "<pre style=\"white-space:pre;overflow-x:auto;line-height:normal;font-family:Menlo,'DejaVu Sans Mono',consolas,'Courier New',monospace\">┏━━━━━━━━━━━━━━━━━━━━━━━━━━━━━━━━━┳━━━━━━━━━━━━━━━━━━━━━━━━┳━━━━━━━━━━━━━━━┓\n",
              "┃<span style=\"font-weight: bold\"> Layer (type)                    </span>┃<span style=\"font-weight: bold\"> Output Shape           </span>┃<span style=\"font-weight: bold\">       Param # </span>┃\n",
              "┡━━━━━━━━━━━━━━━━━━━━━━━━━━━━━━━━━╇━━━━━━━━━━━━━━━━━━━━━━━━╇━━━━━━━━━━━━━━━┩\n",
              "│ conv2d (<span style=\"color: #0087ff; text-decoration-color: #0087ff\">Conv2D</span>)                 │ (<span style=\"color: #00d7ff; text-decoration-color: #00d7ff\">None</span>, <span style=\"color: #00af00; text-decoration-color: #00af00\">64</span>, <span style=\"color: #00af00; text-decoration-color: #00af00\">64</span>, <span style=\"color: #00af00; text-decoration-color: #00af00\">32</span>)     │           <span style=\"color: #00af00; text-decoration-color: #00af00\">896</span> │\n",
              "├─────────────────────────────────┼────────────────────────┼───────────────┤\n",
              "│ conv2d_1 (<span style=\"color: #0087ff; text-decoration-color: #0087ff\">Conv2D</span>)               │ (<span style=\"color: #00d7ff; text-decoration-color: #00d7ff\">None</span>, <span style=\"color: #00af00; text-decoration-color: #00af00\">64</span>, <span style=\"color: #00af00; text-decoration-color: #00af00\">64</span>, <span style=\"color: #00af00; text-decoration-color: #00af00\">32</span>)     │         <span style=\"color: #00af00; text-decoration-color: #00af00\">9,248</span> │\n",
              "├─────────────────────────────────┼────────────────────────┼───────────────┤\n",
              "│ max_pooling2d (<span style=\"color: #0087ff; text-decoration-color: #0087ff\">MaxPooling2D</span>)    │ (<span style=\"color: #00d7ff; text-decoration-color: #00d7ff\">None</span>, <span style=\"color: #00af00; text-decoration-color: #00af00\">32</span>, <span style=\"color: #00af00; text-decoration-color: #00af00\">32</span>, <span style=\"color: #00af00; text-decoration-color: #00af00\">32</span>)     │             <span style=\"color: #00af00; text-decoration-color: #00af00\">0</span> │\n",
              "├─────────────────────────────────┼────────────────────────┼───────────────┤\n",
              "│ dropout (<span style=\"color: #0087ff; text-decoration-color: #0087ff\">Dropout</span>)               │ (<span style=\"color: #00d7ff; text-decoration-color: #00d7ff\">None</span>, <span style=\"color: #00af00; text-decoration-color: #00af00\">32</span>, <span style=\"color: #00af00; text-decoration-color: #00af00\">32</span>, <span style=\"color: #00af00; text-decoration-color: #00af00\">32</span>)     │             <span style=\"color: #00af00; text-decoration-color: #00af00\">0</span> │\n",
              "├─────────────────────────────────┼────────────────────────┼───────────────┤\n",
              "│ conv2d_2 (<span style=\"color: #0087ff; text-decoration-color: #0087ff\">Conv2D</span>)               │ (<span style=\"color: #00d7ff; text-decoration-color: #00d7ff\">None</span>, <span style=\"color: #00af00; text-decoration-color: #00af00\">32</span>, <span style=\"color: #00af00; text-decoration-color: #00af00\">32</span>, <span style=\"color: #00af00; text-decoration-color: #00af00\">64</span>)     │        <span style=\"color: #00af00; text-decoration-color: #00af00\">18,496</span> │\n",
              "├─────────────────────────────────┼────────────────────────┼───────────────┤\n",
              "│ conv2d_3 (<span style=\"color: #0087ff; text-decoration-color: #0087ff\">Conv2D</span>)               │ (<span style=\"color: #00d7ff; text-decoration-color: #00d7ff\">None</span>, <span style=\"color: #00af00; text-decoration-color: #00af00\">32</span>, <span style=\"color: #00af00; text-decoration-color: #00af00\">32</span>, <span style=\"color: #00af00; text-decoration-color: #00af00\">64</span>)     │        <span style=\"color: #00af00; text-decoration-color: #00af00\">36,928</span> │\n",
              "├─────────────────────────────────┼────────────────────────┼───────────────┤\n",
              "│ max_pooling2d_1 (<span style=\"color: #0087ff; text-decoration-color: #0087ff\">MaxPooling2D</span>)  │ (<span style=\"color: #00d7ff; text-decoration-color: #00d7ff\">None</span>, <span style=\"color: #00af00; text-decoration-color: #00af00\">16</span>, <span style=\"color: #00af00; text-decoration-color: #00af00\">16</span>, <span style=\"color: #00af00; text-decoration-color: #00af00\">64</span>)     │             <span style=\"color: #00af00; text-decoration-color: #00af00\">0</span> │\n",
              "├─────────────────────────────────┼────────────────────────┼───────────────┤\n",
              "│ dropout_1 (<span style=\"color: #0087ff; text-decoration-color: #0087ff\">Dropout</span>)             │ (<span style=\"color: #00d7ff; text-decoration-color: #00d7ff\">None</span>, <span style=\"color: #00af00; text-decoration-color: #00af00\">16</span>, <span style=\"color: #00af00; text-decoration-color: #00af00\">16</span>, <span style=\"color: #00af00; text-decoration-color: #00af00\">64</span>)     │             <span style=\"color: #00af00; text-decoration-color: #00af00\">0</span> │\n",
              "├─────────────────────────────────┼────────────────────────┼───────────────┤\n",
              "│ conv2d_4 (<span style=\"color: #0087ff; text-decoration-color: #0087ff\">Conv2D</span>)               │ (<span style=\"color: #00d7ff; text-decoration-color: #00d7ff\">None</span>, <span style=\"color: #00af00; text-decoration-color: #00af00\">16</span>, <span style=\"color: #00af00; text-decoration-color: #00af00\">16</span>, <span style=\"color: #00af00; text-decoration-color: #00af00\">128</span>)    │        <span style=\"color: #00af00; text-decoration-color: #00af00\">73,856</span> │\n",
              "├─────────────────────────────────┼────────────────────────┼───────────────┤\n",
              "│ conv2d_5 (<span style=\"color: #0087ff; text-decoration-color: #0087ff\">Conv2D</span>)               │ (<span style=\"color: #00d7ff; text-decoration-color: #00d7ff\">None</span>, <span style=\"color: #00af00; text-decoration-color: #00af00\">16</span>, <span style=\"color: #00af00; text-decoration-color: #00af00\">16</span>, <span style=\"color: #00af00; text-decoration-color: #00af00\">128</span>)    │       <span style=\"color: #00af00; text-decoration-color: #00af00\">147,584</span> │\n",
              "├─────────────────────────────────┼────────────────────────┼───────────────┤\n",
              "│ max_pooling2d_2 (<span style=\"color: #0087ff; text-decoration-color: #0087ff\">MaxPooling2D</span>)  │ (<span style=\"color: #00d7ff; text-decoration-color: #00d7ff\">None</span>, <span style=\"color: #00af00; text-decoration-color: #00af00\">8</span>, <span style=\"color: #00af00; text-decoration-color: #00af00\">8</span>, <span style=\"color: #00af00; text-decoration-color: #00af00\">128</span>)      │             <span style=\"color: #00af00; text-decoration-color: #00af00\">0</span> │\n",
              "├─────────────────────────────────┼────────────────────────┼───────────────┤\n",
              "│ dropout_2 (<span style=\"color: #0087ff; text-decoration-color: #0087ff\">Dropout</span>)             │ (<span style=\"color: #00d7ff; text-decoration-color: #00d7ff\">None</span>, <span style=\"color: #00af00; text-decoration-color: #00af00\">8</span>, <span style=\"color: #00af00; text-decoration-color: #00af00\">8</span>, <span style=\"color: #00af00; text-decoration-color: #00af00\">128</span>)      │             <span style=\"color: #00af00; text-decoration-color: #00af00\">0</span> │\n",
              "├─────────────────────────────────┼────────────────────────┼───────────────┤\n",
              "│ flatten (<span style=\"color: #0087ff; text-decoration-color: #0087ff\">Flatten</span>)               │ (<span style=\"color: #00d7ff; text-decoration-color: #00d7ff\">None</span>, <span style=\"color: #00af00; text-decoration-color: #00af00\">8192</span>)           │             <span style=\"color: #00af00; text-decoration-color: #00af00\">0</span> │\n",
              "├─────────────────────────────────┼────────────────────────┼───────────────┤\n",
              "│ dense (<span style=\"color: #0087ff; text-decoration-color: #0087ff\">Dense</span>)                   │ (<span style=\"color: #00d7ff; text-decoration-color: #00d7ff\">None</span>, <span style=\"color: #00af00; text-decoration-color: #00af00\">256</span>)            │     <span style=\"color: #00af00; text-decoration-color: #00af00\">2,097,408</span> │\n",
              "├─────────────────────────────────┼────────────────────────┼───────────────┤\n",
              "│ dropout_3 (<span style=\"color: #0087ff; text-decoration-color: #0087ff\">Dropout</span>)             │ (<span style=\"color: #00d7ff; text-decoration-color: #00d7ff\">None</span>, <span style=\"color: #00af00; text-decoration-color: #00af00\">256</span>)            │             <span style=\"color: #00af00; text-decoration-color: #00af00\">0</span> │\n",
              "├─────────────────────────────────┼────────────────────────┼───────────────┤\n",
              "│ dense_1 (<span style=\"color: #0087ff; text-decoration-color: #0087ff\">Dense</span>)                 │ (<span style=\"color: #00d7ff; text-decoration-color: #00d7ff\">None</span>, <span style=\"color: #00af00; text-decoration-color: #00af00\">128</span>)            │        <span style=\"color: #00af00; text-decoration-color: #00af00\">32,896</span> │\n",
              "├─────────────────────────────────┼────────────────────────┼───────────────┤\n",
              "│ dropout_4 (<span style=\"color: #0087ff; text-decoration-color: #0087ff\">Dropout</span>)             │ (<span style=\"color: #00d7ff; text-decoration-color: #00d7ff\">None</span>, <span style=\"color: #00af00; text-decoration-color: #00af00\">128</span>)            │             <span style=\"color: #00af00; text-decoration-color: #00af00\">0</span> │\n",
              "├─────────────────────────────────┼────────────────────────┼───────────────┤\n",
              "│ dense_2 (<span style=\"color: #0087ff; text-decoration-color: #0087ff\">Dense</span>)                 │ (<span style=\"color: #00d7ff; text-decoration-color: #00d7ff\">None</span>, <span style=\"color: #00af00; text-decoration-color: #00af00\">121</span>)            │        <span style=\"color: #00af00; text-decoration-color: #00af00\">15,609</span> │\n",
              "└─────────────────────────────────┴────────────────────────┴───────────────┘\n",
              "</pre>\n"
            ],
            "text/plain": [
              "┏━━━━━━━━━━━━━━━━━━━━━━━━━━━━━━━━━┳━━━━━━━━━━━━━━━━━━━━━━━━┳━━━━━━━━━━━━━━━┓\n",
              "┃\u001b[1m \u001b[0m\u001b[1mLayer (type)                   \u001b[0m\u001b[1m \u001b[0m┃\u001b[1m \u001b[0m\u001b[1mOutput Shape          \u001b[0m\u001b[1m \u001b[0m┃\u001b[1m \u001b[0m\u001b[1m      Param #\u001b[0m\u001b[1m \u001b[0m┃\n",
              "┡━━━━━━━━━━━━━━━━━━━━━━━━━━━━━━━━━╇━━━━━━━━━━━━━━━━━━━━━━━━╇━━━━━━━━━━━━━━━┩\n",
              "│ conv2d (\u001b[38;5;33mConv2D\u001b[0m)                 │ (\u001b[38;5;45mNone\u001b[0m, \u001b[38;5;34m64\u001b[0m, \u001b[38;5;34m64\u001b[0m, \u001b[38;5;34m32\u001b[0m)     │           \u001b[38;5;34m896\u001b[0m │\n",
              "├─────────────────────────────────┼────────────────────────┼───────────────┤\n",
              "│ conv2d_1 (\u001b[38;5;33mConv2D\u001b[0m)               │ (\u001b[38;5;45mNone\u001b[0m, \u001b[38;5;34m64\u001b[0m, \u001b[38;5;34m64\u001b[0m, \u001b[38;5;34m32\u001b[0m)     │         \u001b[38;5;34m9,248\u001b[0m │\n",
              "├─────────────────────────────────┼────────────────────────┼───────────────┤\n",
              "│ max_pooling2d (\u001b[38;5;33mMaxPooling2D\u001b[0m)    │ (\u001b[38;5;45mNone\u001b[0m, \u001b[38;5;34m32\u001b[0m, \u001b[38;5;34m32\u001b[0m, \u001b[38;5;34m32\u001b[0m)     │             \u001b[38;5;34m0\u001b[0m │\n",
              "├─────────────────────────────────┼────────────────────────┼───────────────┤\n",
              "│ dropout (\u001b[38;5;33mDropout\u001b[0m)               │ (\u001b[38;5;45mNone\u001b[0m, \u001b[38;5;34m32\u001b[0m, \u001b[38;5;34m32\u001b[0m, \u001b[38;5;34m32\u001b[0m)     │             \u001b[38;5;34m0\u001b[0m │\n",
              "├─────────────────────────────────┼────────────────────────┼───────────────┤\n",
              "│ conv2d_2 (\u001b[38;5;33mConv2D\u001b[0m)               │ (\u001b[38;5;45mNone\u001b[0m, \u001b[38;5;34m32\u001b[0m, \u001b[38;5;34m32\u001b[0m, \u001b[38;5;34m64\u001b[0m)     │        \u001b[38;5;34m18,496\u001b[0m │\n",
              "├─────────────────────────────────┼────────────────────────┼───────────────┤\n",
              "│ conv2d_3 (\u001b[38;5;33mConv2D\u001b[0m)               │ (\u001b[38;5;45mNone\u001b[0m, \u001b[38;5;34m32\u001b[0m, \u001b[38;5;34m32\u001b[0m, \u001b[38;5;34m64\u001b[0m)     │        \u001b[38;5;34m36,928\u001b[0m │\n",
              "├─────────────────────────────────┼────────────────────────┼───────────────┤\n",
              "│ max_pooling2d_1 (\u001b[38;5;33mMaxPooling2D\u001b[0m)  │ (\u001b[38;5;45mNone\u001b[0m, \u001b[38;5;34m16\u001b[0m, \u001b[38;5;34m16\u001b[0m, \u001b[38;5;34m64\u001b[0m)     │             \u001b[38;5;34m0\u001b[0m │\n",
              "├─────────────────────────────────┼────────────────────────┼───────────────┤\n",
              "│ dropout_1 (\u001b[38;5;33mDropout\u001b[0m)             │ (\u001b[38;5;45mNone\u001b[0m, \u001b[38;5;34m16\u001b[0m, \u001b[38;5;34m16\u001b[0m, \u001b[38;5;34m64\u001b[0m)     │             \u001b[38;5;34m0\u001b[0m │\n",
              "├─────────────────────────────────┼────────────────────────┼───────────────┤\n",
              "│ conv2d_4 (\u001b[38;5;33mConv2D\u001b[0m)               │ (\u001b[38;5;45mNone\u001b[0m, \u001b[38;5;34m16\u001b[0m, \u001b[38;5;34m16\u001b[0m, \u001b[38;5;34m128\u001b[0m)    │        \u001b[38;5;34m73,856\u001b[0m │\n",
              "├─────────────────────────────────┼────────────────────────┼───────────────┤\n",
              "│ conv2d_5 (\u001b[38;5;33mConv2D\u001b[0m)               │ (\u001b[38;5;45mNone\u001b[0m, \u001b[38;5;34m16\u001b[0m, \u001b[38;5;34m16\u001b[0m, \u001b[38;5;34m128\u001b[0m)    │       \u001b[38;5;34m147,584\u001b[0m │\n",
              "├─────────────────────────────────┼────────────────────────┼───────────────┤\n",
              "│ max_pooling2d_2 (\u001b[38;5;33mMaxPooling2D\u001b[0m)  │ (\u001b[38;5;45mNone\u001b[0m, \u001b[38;5;34m8\u001b[0m, \u001b[38;5;34m8\u001b[0m, \u001b[38;5;34m128\u001b[0m)      │             \u001b[38;5;34m0\u001b[0m │\n",
              "├─────────────────────────────────┼────────────────────────┼───────────────┤\n",
              "│ dropout_2 (\u001b[38;5;33mDropout\u001b[0m)             │ (\u001b[38;5;45mNone\u001b[0m, \u001b[38;5;34m8\u001b[0m, \u001b[38;5;34m8\u001b[0m, \u001b[38;5;34m128\u001b[0m)      │             \u001b[38;5;34m0\u001b[0m │\n",
              "├─────────────────────────────────┼────────────────────────┼───────────────┤\n",
              "│ flatten (\u001b[38;5;33mFlatten\u001b[0m)               │ (\u001b[38;5;45mNone\u001b[0m, \u001b[38;5;34m8192\u001b[0m)           │             \u001b[38;5;34m0\u001b[0m │\n",
              "├─────────────────────────────────┼────────────────────────┼───────────────┤\n",
              "│ dense (\u001b[38;5;33mDense\u001b[0m)                   │ (\u001b[38;5;45mNone\u001b[0m, \u001b[38;5;34m256\u001b[0m)            │     \u001b[38;5;34m2,097,408\u001b[0m │\n",
              "├─────────────────────────────────┼────────────────────────┼───────────────┤\n",
              "│ dropout_3 (\u001b[38;5;33mDropout\u001b[0m)             │ (\u001b[38;5;45mNone\u001b[0m, \u001b[38;5;34m256\u001b[0m)            │             \u001b[38;5;34m0\u001b[0m │\n",
              "├─────────────────────────────────┼────────────────────────┼───────────────┤\n",
              "│ dense_1 (\u001b[38;5;33mDense\u001b[0m)                 │ (\u001b[38;5;45mNone\u001b[0m, \u001b[38;5;34m128\u001b[0m)            │        \u001b[38;5;34m32,896\u001b[0m │\n",
              "├─────────────────────────────────┼────────────────────────┼───────────────┤\n",
              "│ dropout_4 (\u001b[38;5;33mDropout\u001b[0m)             │ (\u001b[38;5;45mNone\u001b[0m, \u001b[38;5;34m128\u001b[0m)            │             \u001b[38;5;34m0\u001b[0m │\n",
              "├─────────────────────────────────┼────────────────────────┼───────────────┤\n",
              "│ dense_2 (\u001b[38;5;33mDense\u001b[0m)                 │ (\u001b[38;5;45mNone\u001b[0m, \u001b[38;5;34m121\u001b[0m)            │        \u001b[38;5;34m15,609\u001b[0m │\n",
              "└─────────────────────────────────┴────────────────────────┴───────────────┘\n"
            ]
          },
          "metadata": {},
          "output_type": "display_data"
        },
        {
          "data": {
            "text/html": [
              "<pre style=\"white-space:pre;overflow-x:auto;line-height:normal;font-family:Menlo,'DejaVu Sans Mono',consolas,'Courier New',monospace\"><span style=\"font-weight: bold\"> Total params: </span><span style=\"color: #00af00; text-decoration-color: #00af00\">2,432,921</span> (9.28 MB)\n",
              "</pre>\n"
            ],
            "text/plain": [
              "\u001b[1m Total params: \u001b[0m\u001b[38;5;34m2,432,921\u001b[0m (9.28 MB)\n"
            ]
          },
          "metadata": {},
          "output_type": "display_data"
        },
        {
          "data": {
            "text/html": [
              "<pre style=\"white-space:pre;overflow-x:auto;line-height:normal;font-family:Menlo,'DejaVu Sans Mono',consolas,'Courier New',monospace\"><span style=\"font-weight: bold\"> Trainable params: </span><span style=\"color: #00af00; text-decoration-color: #00af00\">2,432,921</span> (9.28 MB)\n",
              "</pre>\n"
            ],
            "text/plain": [
              "\u001b[1m Trainable params: \u001b[0m\u001b[38;5;34m2,432,921\u001b[0m (9.28 MB)\n"
            ]
          },
          "metadata": {},
          "output_type": "display_data"
        },
        {
          "data": {
            "text/html": [
              "<pre style=\"white-space:pre;overflow-x:auto;line-height:normal;font-family:Menlo,'DejaVu Sans Mono',consolas,'Courier New',monospace\"><span style=\"font-weight: bold\"> Non-trainable params: </span><span style=\"color: #00af00; text-decoration-color: #00af00\">0</span> (0.00 B)\n",
              "</pre>\n"
            ],
            "text/plain": [
              "\u001b[1m Non-trainable params: \u001b[0m\u001b[38;5;34m0\u001b[0m (0.00 B)\n"
            ]
          },
          "metadata": {},
          "output_type": "display_data"
        }
      ],
      "source": [
        "import tensorflow as tf\n",
        "from tensorflow import keras\n",
        "from keras.models import Sequential\n",
        "from keras.layers import Conv2D, MaxPooling2D, Flatten, Dense, Dropout, Activation\n",
        "\n",
        "model = Sequential()\n",
        "model.add(Conv2D(32,(3,3),activation='relu',kernel_initializer='he_uniform',padding='same',input_shape=(64,64,3)))\n",
        "model.add(Conv2D(32,(3,3),activation='relu',kernel_initializer='he_uniform',padding='same'))\n",
        "model.add(MaxPooling2D((2,2)))\n",
        "model.add(Dropout(0.2))\n",
        "\n",
        "model.add(Conv2D(64,(3,3),activation='relu',kernel_initializer='he_uniform',padding='same'))\n",
        "model.add(Conv2D(64,(3,3),activation='relu',kernel_initializer='he_uniform',padding='same'))\n",
        "model.add(MaxPooling2D((2,2)))\n",
        "model.add(Dropout(0.2))\n",
        "\n",
        "model.add(Conv2D(128,(3,3),activation='relu',kernel_initializer='he_uniform',padding='same'))\n",
        "model.add(Conv2D(128,(3,3),activation='relu',kernel_initializer='he_uniform',padding='same'))\n",
        "model.add(MaxPooling2D((2,2)))\n",
        "model.add(Dropout(0.2))\n",
        "\n",
        "model.add(Flatten())\n",
        "model.add(Dense(256, activation='relu', kernel_initializer='he_uniform'))\n",
        "model.add(Dropout(0.2))\n",
        "model.add(Dense(128, activation='relu', kernel_initializer='he_uniform'))\n",
        "model.add(Dropout(0.2))\n",
        "model.add(Dense(121, activation='softmax'))\n",
        "\n",
        "model.summary()\n"
      ]
    },
    {
      "cell_type": "code",
      "execution_count": null,
      "metadata": {
        "colab": {
          "base_uri": "https://localhost:8080/"
        },
        "id": "-K_VIVKtKB3w",
        "outputId": "914e3936-6a8f-45ac-8d73-fc4b947a8113"
      },
      "outputs": [
        {
          "name": "stderr",
          "output_type": "stream",
          "text": [
            "/usr/local/lib/python3.11/dist-packages/keras/src/trainers/data_adapters/py_dataset_adapter.py:121: UserWarning: Your `PyDataset` class should call `super().__init__(**kwargs)` in its constructor. `**kwargs` can include `workers`, `use_multiprocessing`, `max_queue_size`. Do not pass these arguments to `fit()`, as they will be ignored.\n",
            "  self._warn_if_super_not_called()\n"
          ]
        },
        {
          "name": "stdout",
          "output_type": "stream",
          "text": [
            "Epoch 1/150\n",
            "\u001b[1m243/243\u001b[0m \u001b[32m━━━━━━━━━━━━━━━━━━━━\u001b[0m\u001b[37m\u001b[0m \u001b[1m4631s\u001b[0m 19s/step - accuracy: 0.0251 - loss: 4.7338 - val_accuracy: 0.2099 - val_loss: 3.2257\n",
            "Epoch 2/150\n",
            "\u001b[1m243/243\u001b[0m \u001b[32m━━━━━━━━━━━━━━━━━━━━\u001b[0m\u001b[37m\u001b[0m \u001b[1m251s\u001b[0m 973ms/step - accuracy: 0.2329 - loss: 2.9268 - val_accuracy: 0.4988 - val_loss: 1.9218\n",
            "Epoch 3/150\n",
            "\u001b[1m243/243\u001b[0m \u001b[32m━━━━━━━━━━━━━━━━━━━━\u001b[0m\u001b[37m\u001b[0m \u001b[1m236s\u001b[0m 969ms/step - accuracy: 0.5162 - loss: 1.6197 - val_accuracy: 0.6494 - val_loss: 1.2242\n",
            "Epoch 4/150\n",
            "\u001b[1m243/243\u001b[0m \u001b[32m━━━━━━━━━━━━━━━━━━━━\u001b[0m\u001b[37m\u001b[0m \u001b[1m237s\u001b[0m 974ms/step - accuracy: 0.7026 - loss: 0.8923 - val_accuracy: 0.7210 - val_loss: 0.9962\n",
            "Epoch 5/150\n",
            "\u001b[1m243/243\u001b[0m \u001b[32m━━━━━━━━━━━━━━━━━━━━\u001b[0m\u001b[37m\u001b[0m \u001b[1m260s\u001b[0m 963ms/step - accuracy: 0.7612 - loss: 0.6588 - val_accuracy: 0.7481 - val_loss: 0.9033\n",
            "Epoch 6/150\n",
            "\u001b[1m243/243\u001b[0m \u001b[32m━━━━━━━━━━━━━━━━━━━━\u001b[0m\u001b[37m\u001b[0m \u001b[1m260s\u001b[0m 957ms/step - accuracy: 0.8239 - loss: 0.4806 - val_accuracy: 0.7778 - val_loss: 0.8558\n",
            "Epoch 7/150\n",
            "\u001b[1m243/243\u001b[0m \u001b[32m━━━━━━━━━━━━━━━━━━━━\u001b[0m\u001b[37m\u001b[0m \u001b[1m235s\u001b[0m 967ms/step - accuracy: 0.8408 - loss: 0.3928 - val_accuracy: 0.7753 - val_loss: 0.7474\n",
            "Epoch 8/150\n",
            "\u001b[1m243/243\u001b[0m \u001b[32m━━━━━━━━━━━━━━━━━━━━\u001b[0m\u001b[37m\u001b[0m \u001b[1m235s\u001b[0m 966ms/step - accuracy: 0.8490 - loss: 0.3664 - val_accuracy: 0.7975 - val_loss: 0.7117\n",
            "Epoch 9/150\n",
            "\u001b[1m243/243\u001b[0m \u001b[32m━━━━━━━━━━━━━━━━━━━━\u001b[0m\u001b[37m\u001b[0m \u001b[1m234s\u001b[0m 962ms/step - accuracy: 0.8785 - loss: 0.2780 - val_accuracy: 0.8000 - val_loss: 0.8117\n",
            "Epoch 10/150\n",
            "\u001b[1m243/243\u001b[0m \u001b[32m━━━━━━━━━━━━━━━━━━━━\u001b[0m\u001b[37m\u001b[0m \u001b[1m234s\u001b[0m 962ms/step - accuracy: 0.8821 - loss: 0.2650 - val_accuracy: 0.8123 - val_loss: 0.7774\n",
            "Epoch 11/150\n",
            "\u001b[1m243/243\u001b[0m \u001b[32m━━━━━━━━━━━━━━━━━━━━\u001b[0m\u001b[37m\u001b[0m \u001b[1m242s\u001b[0m 997ms/step - accuracy: 0.8853 - loss: 0.2637 - val_accuracy: 0.8000 - val_loss: 0.6909\n",
            "Epoch 12/150\n",
            "\u001b[1m243/243\u001b[0m \u001b[32m━━━━━━━━━━━━━━━━━━━━\u001b[0m\u001b[37m\u001b[0m \u001b[1m236s\u001b[0m 969ms/step - accuracy: 0.8849 - loss: 0.2509 - val_accuracy: 0.8494 - val_loss: 0.5358\n",
            "Epoch 13/150\n",
            "\u001b[1m243/243\u001b[0m \u001b[32m━━━━━━━━━━━━━━━━━━━━\u001b[0m\u001b[37m\u001b[0m \u001b[1m236s\u001b[0m 972ms/step - accuracy: 0.8983 - loss: 0.2099 - val_accuracy: 0.8321 - val_loss: 0.6847\n",
            "Epoch 14/150\n",
            "\u001b[1m243/243\u001b[0m \u001b[32m━━━━━━━━━━━━━━━━━━━━\u001b[0m\u001b[37m\u001b[0m \u001b[1m261s\u001b[0m 968ms/step - accuracy: 0.8888 - loss: 0.2214 - val_accuracy: 0.8247 - val_loss: 0.6602\n",
            "Epoch 15/150\n",
            "\u001b[1m243/243\u001b[0m \u001b[32m━━━━━━━━━━━━━━━━━━━━\u001b[0m\u001b[37m\u001b[0m \u001b[1m235s\u001b[0m 966ms/step - accuracy: 0.9036 - loss: 0.2158 - val_accuracy: 0.8321 - val_loss: 0.6820\n",
            "Epoch 16/150\n",
            "\u001b[1m243/243\u001b[0m \u001b[32m━━━━━━━━━━━━━━━━━━━━\u001b[0m\u001b[37m\u001b[0m \u001b[1m236s\u001b[0m 972ms/step - accuracy: 0.9036 - loss: 0.2003 - val_accuracy: 0.8469 - val_loss: 0.6111\n",
            "Epoch 17/150\n",
            "\u001b[1m243/243\u001b[0m \u001b[32m━━━━━━━━━━━━━━━━━━━━\u001b[0m\u001b[37m\u001b[0m \u001b[1m242s\u001b[0m 997ms/step - accuracy: 0.8998 - loss: 0.1990 - val_accuracy: 0.8321 - val_loss: 0.7197\n",
            "Epoch 18/150\n",
            "\u001b[1m243/243\u001b[0m \u001b[32m━━━━━━━━━━━━━━━━━━━━\u001b[0m\u001b[37m\u001b[0m \u001b[1m237s\u001b[0m 974ms/step - accuracy: 0.9057 - loss: 0.1981 - val_accuracy: 0.8370 - val_loss: 0.6396\n",
            "Epoch 19/150\n",
            "\u001b[1m243/243\u001b[0m \u001b[32m━━━━━━━━━━━━━━━━━━━━\u001b[0m\u001b[37m\u001b[0m \u001b[1m236s\u001b[0m 969ms/step - accuracy: 0.9104 - loss: 0.1730 - val_accuracy: 0.8420 - val_loss: 0.6221\n",
            "Epoch 20/150\n",
            "\u001b[1m243/243\u001b[0m \u001b[32m━━━━━━━━━━━━━━━━━━━━\u001b[0m\u001b[37m\u001b[0m \u001b[1m233s\u001b[0m 960ms/step - accuracy: 0.9020 - loss: 0.2029 - val_accuracy: 0.8296 - val_loss: 0.7521\n",
            "Epoch 21/150\n",
            "\u001b[1m243/243\u001b[0m \u001b[32m━━━━━━━━━━━━━━━━━━━━\u001b[0m\u001b[37m\u001b[0m \u001b[1m233s\u001b[0m 959ms/step - accuracy: 0.9018 - loss: 0.1949 - val_accuracy: 0.8346 - val_loss: 0.6960\n",
            "Epoch 22/150\n",
            "\u001b[1m243/243\u001b[0m \u001b[32m━━━━━━━━━━━━━━━━━━━━\u001b[0m\u001b[37m\u001b[0m \u001b[1m256s\u001b[0m 937ms/step - accuracy: 0.9107 - loss: 0.1710 - val_accuracy: 0.8321 - val_loss: 0.6404\n",
            "Epoch 23/150\n",
            "\u001b[1m243/243\u001b[0m \u001b[32m━━━━━━━━━━━━━━━━━━━━\u001b[0m\u001b[37m\u001b[0m \u001b[1m269s\u001b[0m 966ms/step - accuracy: 0.9111 - loss: 0.1700 - val_accuracy: 0.8420 - val_loss: 0.6762\n",
            "Epoch 24/150\n",
            "\u001b[1m243/243\u001b[0m \u001b[32m━━━━━━━━━━━━━━━━━━━━\u001b[0m\u001b[37m\u001b[0m \u001b[1m234s\u001b[0m 962ms/step - accuracy: 0.9090 - loss: 0.1631 - val_accuracy: 0.8568 - val_loss: 0.6924\n",
            "Epoch 25/150\n",
            "\u001b[1m243/243\u001b[0m \u001b[32m━━━━━━━━━━━━━━━━━━━━\u001b[0m\u001b[37m\u001b[0m \u001b[1m230s\u001b[0m 945ms/step - accuracy: 0.9125 - loss: 0.1610 - val_accuracy: 0.8395 - val_loss: 0.7735\n",
            "Epoch 26/150\n",
            "\u001b[1m243/243\u001b[0m \u001b[32m━━━━━━━━━━━━━━━━━━━━\u001b[0m\u001b[37m\u001b[0m \u001b[1m234s\u001b[0m 961ms/step - accuracy: 0.9028 - loss: 0.1892 - val_accuracy: 0.8296 - val_loss: 0.7022\n",
            "Epoch 27/150\n",
            "\u001b[1m243/243\u001b[0m \u001b[32m━━━━━━━━━━━━━━━━━━━━\u001b[0m\u001b[37m\u001b[0m \u001b[1m236s\u001b[0m 967ms/step - accuracy: 0.9041 - loss: 0.1648 - val_accuracy: 0.8568 - val_loss: 0.6215\n",
            "Epoch 28/150\n",
            "\u001b[1m243/243\u001b[0m \u001b[32m━━━━━━━━━━━━━━━━━━━━\u001b[0m\u001b[37m\u001b[0m \u001b[1m234s\u001b[0m 962ms/step - accuracy: 0.9046 - loss: 0.1768 - val_accuracy: 0.8568 - val_loss: 0.5207\n",
            "Epoch 29/150\n",
            "\u001b[1m243/243\u001b[0m \u001b[32m━━━━━━━━━━━━━━━━━━━━\u001b[0m\u001b[37m\u001b[0m \u001b[1m230s\u001b[0m 943ms/step - accuracy: 0.9176 - loss: 0.1455 - val_accuracy: 0.8296 - val_loss: 0.8162\n",
            "Epoch 30/150\n",
            "\u001b[1m243/243\u001b[0m \u001b[32m━━━━━━━━━━━━━━━━━━━━\u001b[0m\u001b[37m\u001b[0m \u001b[1m262s\u001b[0m 947ms/step - accuracy: 0.9024 - loss: 0.1788 - val_accuracy: 0.8568 - val_loss: 0.5438\n",
            "Epoch 31/150\n",
            "\u001b[1m243/243\u001b[0m \u001b[32m━━━━━━━━━━━━━━━━━━━━\u001b[0m\u001b[37m\u001b[0m \u001b[1m230s\u001b[0m 944ms/step - accuracy: 0.9173 - loss: 0.1324 - val_accuracy: 0.8444 - val_loss: 0.7229\n",
            "Epoch 32/150\n",
            "\u001b[1m243/243\u001b[0m \u001b[32m━━━━━━━━━━━━━━━━━━━━\u001b[0m\u001b[37m\u001b[0m \u001b[1m240s\u001b[0m 985ms/step - accuracy: 0.9053 - loss: 0.1771 - val_accuracy: 0.8173 - val_loss: 0.6901\n",
            "Epoch 33/150\n",
            "\u001b[1m243/243\u001b[0m \u001b[32m━━━━━━━━━━━━━━━━━━━━\u001b[0m\u001b[37m\u001b[0m \u001b[1m248s\u001b[0m 1s/step - accuracy: 0.9061 - loss: 0.1949 - val_accuracy: 0.8494 - val_loss: 0.5546\n",
            "Epoch 34/150\n",
            "\u001b[1m243/243\u001b[0m \u001b[32m━━━━━━━━━━━━━━━━━━━━\u001b[0m\u001b[37m\u001b[0m \u001b[1m236s\u001b[0m 972ms/step - accuracy: 0.9178 - loss: 0.1531 - val_accuracy: 0.8444 - val_loss: 0.5942\n",
            "Epoch 35/150\n",
            "\u001b[1m243/243\u001b[0m \u001b[32m━━━━━━━━━━━━━━━━━━━━\u001b[0m\u001b[37m\u001b[0m \u001b[1m233s\u001b[0m 957ms/step - accuracy: 0.9183 - loss: 0.1437 - val_accuracy: 0.8519 - val_loss: 0.5068\n",
            "Epoch 36/150\n",
            "\u001b[1m243/243\u001b[0m \u001b[32m━━━━━━━━━━━━━━━━━━━━\u001b[0m\u001b[37m\u001b[0m \u001b[1m262s\u001b[0m 956ms/step - accuracy: 0.9185 - loss: 0.1484 - val_accuracy: 0.8519 - val_loss: 0.6446\n",
            "Epoch 37/150\n",
            "\u001b[1m243/243\u001b[0m \u001b[32m━━━━━━━━━━━━━━━━━━━━\u001b[0m\u001b[37m\u001b[0m \u001b[1m232s\u001b[0m 954ms/step - accuracy: 0.9180 - loss: 0.1558 - val_accuracy: 0.8494 - val_loss: 0.6848\n",
            "Epoch 38/150\n",
            "\u001b[1m243/243\u001b[0m \u001b[32m━━━━━━━━━━━━━━━━━━━━\u001b[0m\u001b[37m\u001b[0m \u001b[1m232s\u001b[0m 954ms/step - accuracy: 0.9125 - loss: 0.1589 - val_accuracy: 0.8148 - val_loss: 0.8389\n",
            "Epoch 39/150\n",
            "\u001b[1m243/243\u001b[0m \u001b[32m━━━━━━━━━━━━━━━━━━━━\u001b[0m\u001b[37m\u001b[0m \u001b[1m265s\u001b[0m 966ms/step - accuracy: 0.9190 - loss: 0.1535 - val_accuracy: 0.8395 - val_loss: 0.5859\n",
            "Epoch 40/150\n",
            "\u001b[1m243/243\u001b[0m \u001b[32m━━━━━━━━━━━━━━━━━━━━\u001b[0m\u001b[37m\u001b[0m \u001b[1m234s\u001b[0m 962ms/step - accuracy: 0.9152 - loss: 0.1454 - val_accuracy: 0.8346 - val_loss: 0.7829\n",
            "Epoch 41/150\n",
            "\u001b[1m243/243\u001b[0m \u001b[32m━━━━━━━━━━━━━━━━━━━━\u001b[0m\u001b[37m\u001b[0m \u001b[1m236s\u001b[0m 970ms/step - accuracy: 0.9067 - loss: 0.1621 - val_accuracy: 0.8667 - val_loss: 0.5390\n",
            "Epoch 42/150\n",
            "\u001b[1m243/243\u001b[0m \u001b[32m━━━━━━━━━━━━━━━━━━━━\u001b[0m\u001b[37m\u001b[0m \u001b[1m232s\u001b[0m 955ms/step - accuracy: 0.9190 - loss: 0.1481 - val_accuracy: 0.8469 - val_loss: 0.7092\n",
            "Epoch 43/150\n",
            "\u001b[1m243/243\u001b[0m \u001b[32m━━━━━━━━━━━━━━━━━━━━\u001b[0m\u001b[37m\u001b[0m \u001b[1m266s\u001b[0m 968ms/step - accuracy: 0.9203 - loss: 0.1415 - val_accuracy: 0.8272 - val_loss: 0.6851\n",
            "Epoch 44/150\n",
            "\u001b[1m243/243\u001b[0m \u001b[32m━━━━━━━━━━━━━━━━━━━━\u001b[0m\u001b[37m\u001b[0m \u001b[1m262s\u001b[0m 970ms/step - accuracy: 0.9233 - loss: 0.1347 - val_accuracy: 0.8296 - val_loss: 0.7525\n",
            "Epoch 45/150\n",
            "\u001b[1m243/243\u001b[0m \u001b[32m━━━━━━━━━━━━━━━━━━━━\u001b[0m\u001b[37m\u001b[0m \u001b[1m231s\u001b[0m 950ms/step - accuracy: 0.9102 - loss: 0.1515 - val_accuracy: 0.8444 - val_loss: 0.5841\n",
            "Epoch 46/150\n",
            "\u001b[1m243/243\u001b[0m \u001b[32m━━━━━━━━━━━━━━━━━━━━\u001b[0m\u001b[37m\u001b[0m \u001b[1m231s\u001b[0m 952ms/step - accuracy: 0.9151 - loss: 0.1507 - val_accuracy: 0.8321 - val_loss: 0.7326\n",
            "Epoch 47/150\n",
            "\u001b[1m243/243\u001b[0m \u001b[32m━━━━━━━━━━━━━━━━━━━━\u001b[0m\u001b[37m\u001b[0m \u001b[1m230s\u001b[0m 945ms/step - accuracy: 0.9218 - loss: 0.1425 - val_accuracy: 0.8519 - val_loss: 0.5388\n",
            "Epoch 48/150\n",
            "\u001b[1m243/243\u001b[0m \u001b[32m━━━━━━━━━━━━━━━━━━━━\u001b[0m\u001b[37m\u001b[0m \u001b[1m240s\u001b[0m 988ms/step - accuracy: 0.9239 - loss: 0.1278 - val_accuracy: 0.8395 - val_loss: 0.7040\n",
            "Epoch 49/150\n",
            "\u001b[1m243/243\u001b[0m \u001b[32m━━━━━━━━━━━━━━━━━━━━\u001b[0m\u001b[37m\u001b[0m \u001b[1m234s\u001b[0m 962ms/step - accuracy: 0.9174 - loss: 0.1443 - val_accuracy: 0.8321 - val_loss: 0.8292\n",
            "Epoch 50/150\n",
            "\u001b[1m243/243\u001b[0m \u001b[32m━━━━━━━━━━━━━━━━━━━━\u001b[0m\u001b[37m\u001b[0m \u001b[1m234s\u001b[0m 961ms/step - accuracy: 0.9126 - loss: 0.1571 - val_accuracy: 0.8321 - val_loss: 0.7469\n",
            "Epoch 51/150\n",
            "\u001b[1m243/243\u001b[0m \u001b[32m━━━━━━━━━━━━━━━━━━━━\u001b[0m\u001b[37m\u001b[0m \u001b[1m233s\u001b[0m 957ms/step - accuracy: 0.9162 - loss: 0.1558 - val_accuracy: 0.8519 - val_loss: 0.6881\n",
            "Epoch 52/150\n",
            "\u001b[1m243/243\u001b[0m \u001b[32m━━━━━━━━━━━━━━━━━━━━\u001b[0m\u001b[37m\u001b[0m \u001b[1m230s\u001b[0m 947ms/step - accuracy: 0.9152 - loss: 0.1595 - val_accuracy: 0.8617 - val_loss: 0.5218\n",
            "Epoch 53/150\n",
            "\u001b[1m243/243\u001b[0m \u001b[32m━━━━━━━━━━━━━━━━━━━━\u001b[0m\u001b[37m\u001b[0m \u001b[1m263s\u001b[0m 953ms/step - accuracy: 0.9166 - loss: 0.1454 - val_accuracy: 0.8667 - val_loss: 0.6038\n",
            "Epoch 54/150\n",
            "\u001b[1m243/243\u001b[0m \u001b[32m━━━━━━━━━━━━━━━━━━━━\u001b[0m\u001b[37m\u001b[0m \u001b[1m234s\u001b[0m 961ms/step - accuracy: 0.9260 - loss: 0.1312 - val_accuracy: 0.8494 - val_loss: 0.6268\n",
            "Epoch 55/150\n",
            "\u001b[1m243/243\u001b[0m \u001b[32m━━━━━━━━━━━━━━━━━━━━\u001b[0m\u001b[37m\u001b[0m \u001b[1m231s\u001b[0m 951ms/step - accuracy: 0.9195 - loss: 0.1409 - val_accuracy: 0.8593 - val_loss: 0.6220\n",
            "Epoch 56/150\n",
            "\u001b[1m243/243\u001b[0m \u001b[32m━━━━━━━━━━━━━━━━━━━━\u001b[0m\u001b[37m\u001b[0m \u001b[1m232s\u001b[0m 955ms/step - accuracy: 0.9194 - loss: 0.1379 - val_accuracy: 0.8370 - val_loss: 0.7427\n",
            "Epoch 57/150\n",
            "\u001b[1m243/243\u001b[0m \u001b[32m━━━━━━━━━━━━━━━━━━━━\u001b[0m\u001b[37m\u001b[0m \u001b[1m238s\u001b[0m 979ms/step - accuracy: 0.9139 - loss: 0.1576 - val_accuracy: 0.8296 - val_loss: 0.7234\n",
            "Epoch 58/150\n",
            "\u001b[1m243/243\u001b[0m \u001b[32m━━━━━━━━━━━━━━━━━━━━\u001b[0m\u001b[37m\u001b[0m \u001b[1m230s\u001b[0m 948ms/step - accuracy: 0.9138 - loss: 0.1586 - val_accuracy: 0.8568 - val_loss: 0.7760\n",
            "Epoch 59/150\n",
            "\u001b[1m243/243\u001b[0m \u001b[32m━━━━━━━━━━━━━━━━━━━━\u001b[0m\u001b[37m\u001b[0m \u001b[1m228s\u001b[0m 939ms/step - accuracy: 0.9077 - loss: 0.1504 - val_accuracy: 0.8444 - val_loss: 0.8525\n",
            "Epoch 60/150\n",
            "\u001b[1m243/243\u001b[0m \u001b[32m━━━━━━━━━━━━━━━━━━━━\u001b[0m\u001b[37m\u001b[0m \u001b[1m228s\u001b[0m 939ms/step - accuracy: 0.9196 - loss: 0.1465 - val_accuracy: 0.8543 - val_loss: 0.6663\n",
            "Epoch 61/150\n",
            "\u001b[1m243/243\u001b[0m \u001b[32m━━━━━━━━━━━━━━━━━━━━\u001b[0m\u001b[37m\u001b[0m \u001b[1m228s\u001b[0m 937ms/step - accuracy: 0.9268 - loss: 0.1237 - val_accuracy: 0.8642 - val_loss: 0.5970\n",
            "Epoch 62/150\n",
            "\u001b[1m243/243\u001b[0m \u001b[32m━━━━━━━━━━━━━━━━━━━━\u001b[0m\u001b[37m\u001b[0m \u001b[1m230s\u001b[0m 944ms/step - accuracy: 0.9165 - loss: 0.1396 - val_accuracy: 0.8593 - val_loss: 0.7440\n",
            "Epoch 63/150\n",
            "\u001b[1m243/243\u001b[0m \u001b[32m━━━━━━━━━━━━━━━━━━━━\u001b[0m\u001b[37m\u001b[0m \u001b[1m261s\u001b[0m 942ms/step - accuracy: 0.9128 - loss: 0.1605 - val_accuracy: 0.8691 - val_loss: 0.6695\n",
            "Epoch 64/150\n",
            "\u001b[1m243/243\u001b[0m \u001b[32m━━━━━━━━━━━━━━━━━━━━\u001b[0m\u001b[37m\u001b[0m \u001b[1m229s\u001b[0m 942ms/step - accuracy: 0.9125 - loss: 0.1630 - val_accuracy: 0.8543 - val_loss: 0.8096\n",
            "Epoch 65/150\n",
            "\u001b[1m243/243\u001b[0m \u001b[32m━━━━━━━━━━━━━━━━━━━━\u001b[0m\u001b[37m\u001b[0m \u001b[1m231s\u001b[0m 951ms/step - accuracy: 0.9203 - loss: 0.1410 - val_accuracy: 0.8568 - val_loss: 0.7689\n",
            "Epoch 66/150\n",
            "\u001b[1m243/243\u001b[0m \u001b[32m━━━━━━━━━━━━━━━━━━━━\u001b[0m\u001b[37m\u001b[0m \u001b[1m263s\u001b[0m 957ms/step - accuracy: 0.9142 - loss: 0.1508 - val_accuracy: 0.8667 - val_loss: 0.7057\n",
            "Epoch 67/150\n",
            "\u001b[1m243/243\u001b[0m \u001b[32m━━━━━━━━━━━━━━━━━━━━\u001b[0m\u001b[37m\u001b[0m \u001b[1m239s\u001b[0m 982ms/step - accuracy: 0.9097 - loss: 0.1513 - val_accuracy: 0.8617 - val_loss: 0.5946\n",
            "Epoch 68/150\n",
            "\u001b[1m243/243\u001b[0m \u001b[32m━━━━━━━━━━━━━━━━━━━━\u001b[0m\u001b[37m\u001b[0m \u001b[1m240s\u001b[0m 988ms/step - accuracy: 0.9225 - loss: 0.1384 - val_accuracy: 0.8469 - val_loss: 0.7734\n",
            "Epoch 69/150\n",
            "\u001b[1m243/243\u001b[0m \u001b[32m━━━━━━━━━━━━━━━━━━━━\u001b[0m\u001b[37m\u001b[0m \u001b[1m232s\u001b[0m 954ms/step - accuracy: 0.9224 - loss: 0.1302 - val_accuracy: 0.8667 - val_loss: 0.6765\n",
            "Epoch 70/150\n",
            "\u001b[1m243/243\u001b[0m \u001b[32m━━━━━━━━━━━━━━━━━━━━\u001b[0m\u001b[37m\u001b[0m \u001b[1m234s\u001b[0m 962ms/step - accuracy: 0.9253 - loss: 0.1199 - val_accuracy: 0.8469 - val_loss: 0.7237\n",
            "Epoch 71/150\n",
            "\u001b[1m243/243\u001b[0m \u001b[32m━━━━━━━━━━━━━━━━━━━━\u001b[0m\u001b[37m\u001b[0m \u001b[1m236s\u001b[0m 972ms/step - accuracy: 0.9282 - loss: 0.1221 - val_accuracy: 0.8494 - val_loss: 0.7356\n",
            "Epoch 72/150\n",
            "\u001b[1m243/243\u001b[0m \u001b[32m━━━━━━━━━━━━━━━━━━━━\u001b[0m\u001b[37m\u001b[0m \u001b[1m265s\u001b[0m 981ms/step - accuracy: 0.9100 - loss: 0.1518 - val_accuracy: 0.8519 - val_loss: 0.6451\n",
            "Epoch 73/150\n",
            "\u001b[1m243/243\u001b[0m \u001b[32m━━━━━━━━━━━━━━━━━━━━\u001b[0m\u001b[37m\u001b[0m \u001b[1m238s\u001b[0m 980ms/step - accuracy: 0.9259 - loss: 0.1175 - val_accuracy: 0.8494 - val_loss: 0.7527\n",
            "Epoch 74/150\n",
            "\u001b[1m243/243\u001b[0m \u001b[32m━━━━━━━━━━━━━━━━━━━━\u001b[0m\u001b[37m\u001b[0m \u001b[1m258s\u001b[0m 961ms/step - accuracy: 0.9155 - loss: 0.1486 - val_accuracy: 0.8494 - val_loss: 0.7968\n",
            "Epoch 75/150\n",
            "\u001b[1m243/243\u001b[0m \u001b[32m━━━━━━━━━━━━━━━━━━━━\u001b[0m\u001b[37m\u001b[0m \u001b[1m235s\u001b[0m 965ms/step - accuracy: 0.9243 - loss: 0.1232 - val_accuracy: 0.8543 - val_loss: 0.6556\n",
            "Epoch 76/150\n",
            "\u001b[1m243/243\u001b[0m \u001b[32m━━━━━━━━━━━━━━━━━━━━\u001b[0m\u001b[37m\u001b[0m \u001b[1m236s\u001b[0m 969ms/step - accuracy: 0.9216 - loss: 0.1307 - val_accuracy: 0.8444 - val_loss: 0.7562\n",
            "Epoch 77/150\n",
            "\u001b[1m243/243\u001b[0m \u001b[32m━━━━━━━━━━━━━━━━━━━━\u001b[0m\u001b[37m\u001b[0m \u001b[1m262s\u001b[0m 971ms/step - accuracy: 0.9168 - loss: 0.1383 - val_accuracy: 0.8494 - val_loss: 0.7917\n",
            "Epoch 78/150\n",
            "\u001b[1m243/243\u001b[0m \u001b[32m━━━━━━━━━━━━━━━━━━━━\u001b[0m\u001b[37m\u001b[0m \u001b[1m234s\u001b[0m 962ms/step - accuracy: 0.9241 - loss: 0.1384 - val_accuracy: 0.8494 - val_loss: 1.0753\n",
            "Epoch 79/150\n",
            "\u001b[1m243/243\u001b[0m \u001b[32m━━━━━━━━━━━━━━━━━━━━\u001b[0m\u001b[37m\u001b[0m \u001b[1m235s\u001b[0m 968ms/step - accuracy: 0.9159 - loss: 0.1621 - val_accuracy: 0.8568 - val_loss: 0.6828\n",
            "Epoch 80/150\n",
            "\u001b[1m243/243\u001b[0m \u001b[32m━━━━━━━━━━━━━━━━━━━━\u001b[0m\u001b[37m\u001b[0m \u001b[1m260s\u001b[0m 960ms/step - accuracy: 0.9173 - loss: 0.1485 - val_accuracy: 0.8593 - val_loss: 0.5965\n",
            "Epoch 81/150\n",
            "\u001b[1m243/243\u001b[0m \u001b[32m━━━━━━━━━━━━━━━━━━━━\u001b[0m\u001b[37m\u001b[0m \u001b[1m236s\u001b[0m 973ms/step - accuracy: 0.9132 - loss: 0.1461 - val_accuracy: 0.8667 - val_loss: 0.6929\n",
            "Epoch 82/150\n",
            "\u001b[1m243/243\u001b[0m \u001b[32m━━━━━━━━━━━━━━━━━━━━\u001b[0m\u001b[37m\u001b[0m \u001b[1m233s\u001b[0m 959ms/step - accuracy: 0.9187 - loss: 0.1393 - val_accuracy: 0.8543 - val_loss: 0.7513\n",
            "Epoch 83/150\n",
            "\u001b[1m243/243\u001b[0m \u001b[32m━━━━━━━━━━━━━━━━━━━━\u001b[0m\u001b[37m\u001b[0m \u001b[1m235s\u001b[0m 968ms/step - accuracy: 0.9331 - loss: 0.1229 - val_accuracy: 0.8617 - val_loss: 0.8193\n",
            "Epoch 84/150\n",
            "\u001b[1m243/243\u001b[0m \u001b[32m━━━━━━━━━━━━━━━━━━━━\u001b[0m\u001b[37m\u001b[0m \u001b[1m234s\u001b[0m 960ms/step - accuracy: 0.9261 - loss: 0.1138 - val_accuracy: 0.8543 - val_loss: 0.7832\n",
            "Epoch 85/150\n",
            "\u001b[1m243/243\u001b[0m \u001b[32m━━━━━━━━━━━━━━━━━━━━\u001b[0m\u001b[37m\u001b[0m \u001b[1m235s\u001b[0m 967ms/step - accuracy: 0.9186 - loss: 0.1463 - val_accuracy: 0.8395 - val_loss: 0.8881\n",
            "Epoch 86/150\n",
            "\u001b[1m243/243\u001b[0m \u001b[32m━━━━━━━━━━━━━━━━━━━━\u001b[0m\u001b[37m\u001b[0m \u001b[1m261s\u001b[0m 963ms/step - accuracy: 0.9199 - loss: 0.1433 - val_accuracy: 0.8667 - val_loss: 0.7296\n",
            "Epoch 87/150\n",
            "\u001b[1m243/243\u001b[0m \u001b[32m━━━━━━━━━━━━━━━━━━━━\u001b[0m\u001b[37m\u001b[0m \u001b[1m235s\u001b[0m 967ms/step - accuracy: 0.9191 - loss: 0.1395 - val_accuracy: 0.8519 - val_loss: 0.7904\n",
            "Epoch 88/150\n",
            "\u001b[1m243/243\u001b[0m \u001b[32m━━━━━━━━━━━━━━━━━━━━\u001b[0m\u001b[37m\u001b[0m \u001b[1m235s\u001b[0m 967ms/step - accuracy: 0.9190 - loss: 0.1340 - val_accuracy: 0.8568 - val_loss: 0.6003\n",
            "Epoch 89/150\n",
            "\u001b[1m243/243\u001b[0m \u001b[32m━━━━━━━━━━━━━━━━━━━━\u001b[0m\u001b[37m\u001b[0m \u001b[1m237s\u001b[0m 976ms/step - accuracy: 0.9241 - loss: 0.1231 - val_accuracy: 0.8617 - val_loss: 0.6854\n",
            "Epoch 90/150\n",
            "\u001b[1m243/243\u001b[0m \u001b[32m━━━━━━━━━━━━━━━━━━━━\u001b[0m\u001b[37m\u001b[0m \u001b[1m235s\u001b[0m 968ms/step - accuracy: 0.9249 - loss: 0.1246 - val_accuracy: 0.8469 - val_loss: 0.7465\n",
            "Epoch 91/150\n",
            "\u001b[1m243/243\u001b[0m \u001b[32m━━━━━━━━━━━━━━━━━━━━\u001b[0m\u001b[37m\u001b[0m \u001b[1m236s\u001b[0m 972ms/step - accuracy: 0.9184 - loss: 0.1360 - val_accuracy: 0.8519 - val_loss: 0.8279\n",
            "Epoch 92/150\n",
            "\u001b[1m243/243\u001b[0m \u001b[32m━━━━━━━━━━━━━━━━━━━━\u001b[0m\u001b[37m\u001b[0m \u001b[1m259s\u001b[0m 961ms/step - accuracy: 0.9247 - loss: 0.1264 - val_accuracy: 0.8568 - val_loss: 0.9214\n",
            "Epoch 93/150\n",
            "\u001b[1m243/243\u001b[0m \u001b[32m━━━━━━━━━━━━━━━━━━━━\u001b[0m\u001b[37m\u001b[0m \u001b[1m235s\u001b[0m 966ms/step - accuracy: 0.9151 - loss: 0.1600 - val_accuracy: 0.8617 - val_loss: 0.7696\n",
            "Epoch 94/150\n",
            "\u001b[1m243/243\u001b[0m \u001b[32m━━━━━━━━━━━━━━━━━━━━\u001b[0m\u001b[37m\u001b[0m \u001b[1m261s\u001b[0m 961ms/step - accuracy: 0.9225 - loss: 0.1338 - val_accuracy: 0.8716 - val_loss: 0.6185\n",
            "Epoch 95/150\n",
            "\u001b[1m243/243\u001b[0m \u001b[32m━━━━━━━━━━━━━━━━━━━━\u001b[0m\u001b[37m\u001b[0m \u001b[1m237s\u001b[0m 974ms/step - accuracy: 0.9226 - loss: 0.1331 - val_accuracy: 0.8469 - val_loss: 0.8074\n",
            "Epoch 96/150\n",
            "\u001b[1m243/243\u001b[0m \u001b[32m━━━━━━━━━━━━━━━━━━━━\u001b[0m\u001b[37m\u001b[0m \u001b[1m235s\u001b[0m 966ms/step - accuracy: 0.9201 - loss: 0.1620 - val_accuracy: 0.8543 - val_loss: 0.9284\n",
            "Epoch 97/150\n",
            "\u001b[1m243/243\u001b[0m \u001b[32m━━━━━━━━━━━━━━━━━━━━\u001b[0m\u001b[37m\u001b[0m \u001b[1m235s\u001b[0m 967ms/step - accuracy: 0.9171 - loss: 0.1335 - val_accuracy: 0.8519 - val_loss: 0.8147\n",
            "Epoch 98/150\n",
            "\u001b[1m243/243\u001b[0m \u001b[32m━━━━━━━━━━━━━━━━━━━━\u001b[0m\u001b[37m\u001b[0m \u001b[1m261s\u001b[0m 964ms/step - accuracy: 0.9172 - loss: 0.1370 - val_accuracy: 0.8494 - val_loss: 0.8565\n",
            "Epoch 99/150\n",
            "\u001b[1m243/243\u001b[0m \u001b[32m━━━━━━━━━━━━━━━━━━━━\u001b[0m\u001b[37m\u001b[0m \u001b[1m235s\u001b[0m 967ms/step - accuracy: 0.9249 - loss: 0.1266 - val_accuracy: 0.8617 - val_loss: 0.7649\n",
            "Epoch 100/150\n",
            "\u001b[1m243/243\u001b[0m \u001b[32m━━━━━━━━━━━━━━━━━━━━\u001b[0m\u001b[37m\u001b[0m \u001b[1m234s\u001b[0m 964ms/step - accuracy: 0.9244 - loss: 0.1433 - val_accuracy: 0.8469 - val_loss: 0.7401\n",
            "Epoch 101/150\n",
            "\u001b[1m243/243\u001b[0m \u001b[32m━━━━━━━━━━━━━━━━━━━━\u001b[0m\u001b[37m\u001b[0m \u001b[1m236s\u001b[0m 969ms/step - accuracy: 0.9234 - loss: 0.1338 - val_accuracy: 0.8667 - val_loss: 0.8208\n",
            "Epoch 102/150\n",
            "\u001b[1m243/243\u001b[0m \u001b[32m━━━━━━━━━━━━━━━━━━━━\u001b[0m\u001b[37m\u001b[0m \u001b[1m233s\u001b[0m 960ms/step - accuracy: 0.9208 - loss: 0.1363 - val_accuracy: 0.8494 - val_loss: 0.7916\n",
            "Epoch 103/150\n",
            "\u001b[1m243/243\u001b[0m \u001b[32m━━━━━━━━━━━━━━━━━━━━\u001b[0m\u001b[37m\u001b[0m \u001b[1m236s\u001b[0m 973ms/step - accuracy: 0.9121 - loss: 0.1348 - val_accuracy: 0.8469 - val_loss: 0.8217\n",
            "Epoch 104/150\n",
            "\u001b[1m243/243\u001b[0m \u001b[32m━━━━━━━━━━━━━━━━━━━━\u001b[0m\u001b[37m\u001b[0m \u001b[1m233s\u001b[0m 959ms/step - accuracy: 0.9226 - loss: 0.1267 - val_accuracy: 0.8494 - val_loss: 0.8297\n",
            "Epoch 105/150\n",
            "\u001b[1m243/243\u001b[0m \u001b[32m━━━━━━━━━━━━━━━━━━━━\u001b[0m\u001b[37m\u001b[0m \u001b[1m236s\u001b[0m 970ms/step - accuracy: 0.9202 - loss: 0.1427 - val_accuracy: 0.8667 - val_loss: 0.8118\n",
            "Epoch 106/150\n",
            "\u001b[1m243/243\u001b[0m \u001b[32m━━━━━━━━━━━━━━━━━━━━\u001b[0m\u001b[37m\u001b[0m \u001b[1m259s\u001b[0m 957ms/step - accuracy: 0.9260 - loss: 0.1149 - val_accuracy: 0.8568 - val_loss: 0.7898\n",
            "Epoch 107/150\n",
            "\u001b[1m243/243\u001b[0m \u001b[32m━━━━━━━━━━━━━━━━━━━━\u001b[0m\u001b[37m\u001b[0m \u001b[1m242s\u001b[0m 997ms/step - accuracy: 0.9199 - loss: 0.1412 - val_accuracy: 0.8420 - val_loss: 0.9267\n",
            "Epoch 108/150\n",
            "\u001b[1m243/243\u001b[0m \u001b[32m━━━━━━━━━━━━━━━━━━━━\u001b[0m\u001b[37m\u001b[0m \u001b[1m235s\u001b[0m 966ms/step - accuracy: 0.9254 - loss: 0.1262 - val_accuracy: 0.8420 - val_loss: 1.0686\n",
            "Epoch 109/150\n",
            "\u001b[1m243/243\u001b[0m \u001b[32m━━━━━━━━━━━━━━━━━━━━\u001b[0m\u001b[37m\u001b[0m \u001b[1m259s\u001b[0m 953ms/step - accuracy: 0.9208 - loss: 0.1332 - val_accuracy: 0.8593 - val_loss: 0.7169\n",
            "Epoch 110/150\n",
            "\u001b[1m243/243\u001b[0m \u001b[32m━━━━━━━━━━━━━━━━━━━━\u001b[0m\u001b[37m\u001b[0m \u001b[1m233s\u001b[0m 958ms/step - accuracy: 0.9199 - loss: 0.1340 - val_accuracy: 0.8444 - val_loss: 1.0384\n",
            "Epoch 111/150\n",
            "\u001b[1m243/243\u001b[0m \u001b[32m━━━━━━━━━━━━━━━━━━━━\u001b[0m\u001b[37m\u001b[0m \u001b[1m235s\u001b[0m 966ms/step - accuracy: 0.9162 - loss: 0.1600 - val_accuracy: 0.8765 - val_loss: 1.0683\n",
            "Epoch 112/150\n",
            "\u001b[1m243/243\u001b[0m \u001b[32m━━━━━━━━━━━━━━━━━━━━\u001b[0m\u001b[37m\u001b[0m \u001b[1m236s\u001b[0m 971ms/step - accuracy: 0.9216 - loss: 0.1572 - val_accuracy: 0.8568 - val_loss: 0.8656\n",
            "Epoch 113/150\n",
            "\u001b[1m243/243\u001b[0m \u001b[32m━━━━━━━━━━━━━━━━━━━━\u001b[0m\u001b[37m\u001b[0m \u001b[1m257s\u001b[0m 952ms/step - accuracy: 0.9244 - loss: 0.1267 - val_accuracy: 0.8716 - val_loss: 0.8402\n",
            "Epoch 114/150\n",
            "\u001b[1m243/243\u001b[0m \u001b[32m━━━━━━━━━━━━━━━━━━━━\u001b[0m\u001b[37m\u001b[0m \u001b[1m230s\u001b[0m 947ms/step - accuracy: 0.9224 - loss: 0.1306 - val_accuracy: 0.8494 - val_loss: 0.7051\n",
            "Epoch 115/150\n",
            "\u001b[1m243/243\u001b[0m \u001b[32m━━━━━━━━━━━━━━━━━━━━\u001b[0m\u001b[37m\u001b[0m \u001b[1m233s\u001b[0m 960ms/step - accuracy: 0.9201 - loss: 0.1343 - val_accuracy: 0.8543 - val_loss: 1.1640\n",
            "Epoch 116/150\n",
            "\u001b[1m243/243\u001b[0m \u001b[32m━━━━━━━━━━━━━━━━━━━━\u001b[0m\u001b[37m\u001b[0m \u001b[1m235s\u001b[0m 963ms/step - accuracy: 0.9214 - loss: 0.1373 - val_accuracy: 0.8691 - val_loss: 0.7873\n",
            "Epoch 117/150\n",
            "\u001b[1m243/243\u001b[0m \u001b[32m━━━━━━━━━━━━━━━━━━━━\u001b[0m\u001b[37m\u001b[0m \u001b[1m230s\u001b[0m 947ms/step - accuracy: 0.9082 - loss: 0.1676 - val_accuracy: 0.8568 - val_loss: 0.7721\n",
            "Epoch 118/150\n",
            "\u001b[1m243/243\u001b[0m \u001b[32m━━━━━━━━━━━━━━━━━━━━\u001b[0m\u001b[37m\u001b[0m \u001b[1m229s\u001b[0m 944ms/step - accuracy: 0.9259 - loss: 0.1325 - val_accuracy: 0.8691 - val_loss: 0.7979\n",
            "Epoch 119/150\n",
            "\u001b[1m243/243\u001b[0m \u001b[32m━━━━━━━━━━━━━━━━━━━━\u001b[0m\u001b[37m\u001b[0m \u001b[1m231s\u001b[0m 948ms/step - accuracy: 0.9260 - loss: 0.1515 - val_accuracy: 0.8741 - val_loss: 0.8513\n",
            "Epoch 120/150\n",
            "\u001b[1m243/243\u001b[0m \u001b[32m━━━━━━━━━━━━━━━━━━━━\u001b[0m\u001b[37m\u001b[0m \u001b[1m273s\u001b[0m 993ms/step - accuracy: 0.9224 - loss: 0.1311 - val_accuracy: 0.8519 - val_loss: 0.7545\n",
            "Epoch 121/150\n",
            "\u001b[1m243/243\u001b[0m \u001b[32m━━━━━━━━━━━━━━━━━━━━\u001b[0m\u001b[37m\u001b[0m \u001b[1m242s\u001b[0m 997ms/step - accuracy: 0.9193 - loss: 0.1367 - val_accuracy: 0.8667 - val_loss: 0.8208\n",
            "Epoch 122/150\n",
            "\u001b[1m243/243\u001b[0m \u001b[32m━━━━━━━━━━━━━━━━━━━━\u001b[0m\u001b[37m\u001b[0m \u001b[1m253s\u001b[0m 961ms/step - accuracy: 0.9192 - loss: 0.1336 - val_accuracy: 0.8568 - val_loss: 0.7956\n",
            "Epoch 123/150\n",
            "\u001b[1m243/243\u001b[0m \u001b[32m━━━━━━━━━━━━━━━━━━━━\u001b[0m\u001b[37m\u001b[0m \u001b[1m235s\u001b[0m 968ms/step - accuracy: 0.9186 - loss: 0.1416 - val_accuracy: 0.8667 - val_loss: 0.6703\n",
            "Epoch 124/150\n",
            "\u001b[1m243/243\u001b[0m \u001b[32m━━━━━━━━━━━━━━━━━━━━\u001b[0m\u001b[37m\u001b[0m \u001b[1m257s\u001b[0m 946ms/step - accuracy: 0.9238 - loss: 0.1355 - val_accuracy: 0.8667 - val_loss: 0.8908\n",
            "Epoch 125/150\n",
            "\u001b[1m243/243\u001b[0m \u001b[32m━━━━━━━━━━━━━━━━━━━━\u001b[0m\u001b[37m\u001b[0m \u001b[1m229s\u001b[0m 942ms/step - accuracy: 0.9263 - loss: 0.1271 - val_accuracy: 0.8914 - val_loss: 0.6625\n",
            "Epoch 126/150\n",
            "\u001b[1m243/243\u001b[0m \u001b[32m━━━━━━━━━━━━━━━━━━━━\u001b[0m\u001b[37m\u001b[0m \u001b[1m237s\u001b[0m 973ms/step - accuracy: 0.9274 - loss: 0.1235 - val_accuracy: 0.8790 - val_loss: 0.6633\n",
            "Epoch 127/150\n",
            "\u001b[1m243/243\u001b[0m \u001b[32m━━━━━━━━━━━━━━━━━━━━\u001b[0m\u001b[37m\u001b[0m \u001b[1m257s\u001b[0m 954ms/step - accuracy: 0.9230 - loss: 0.1322 - val_accuracy: 0.8593 - val_loss: 0.8626\n",
            "Epoch 128/150\n",
            "\u001b[1m243/243\u001b[0m \u001b[32m━━━━━━━━━━━━━━━━━━━━\u001b[0m\u001b[37m\u001b[0m \u001b[1m232s\u001b[0m 955ms/step - accuracy: 0.9198 - loss: 0.1336 - val_accuracy: 0.8469 - val_loss: 0.9629\n",
            "Epoch 129/150\n",
            "\u001b[1m243/243\u001b[0m \u001b[32m━━━━━━━━━━━━━━━━━━━━\u001b[0m\u001b[37m\u001b[0m \u001b[1m233s\u001b[0m 960ms/step - accuracy: 0.9056 - loss: 0.1932 - val_accuracy: 0.8667 - val_loss: 0.7426\n",
            "Epoch 130/150\n",
            "\u001b[1m243/243\u001b[0m \u001b[32m━━━━━━━━━━━━━━━━━━━━\u001b[0m\u001b[37m\u001b[0m \u001b[1m230s\u001b[0m 946ms/step - accuracy: 0.9219 - loss: 0.1435 - val_accuracy: 0.8543 - val_loss: 1.0441\n",
            "Epoch 131/150\n",
            "\u001b[1m243/243\u001b[0m \u001b[32m━━━━━━━━━━━━━━━━━━━━\u001b[0m\u001b[37m\u001b[0m \u001b[1m231s\u001b[0m 950ms/step - accuracy: 0.9257 - loss: 0.1452 - val_accuracy: 0.8716 - val_loss: 0.6427\n",
            "Epoch 132/150\n",
            "\u001b[1m243/243\u001b[0m \u001b[32m━━━━━━━━━━━━━━━━━━━━\u001b[0m\u001b[37m\u001b[0m \u001b[1m232s\u001b[0m 953ms/step - accuracy: 0.9196 - loss: 0.1389 - val_accuracy: 0.8642 - val_loss: 0.7522\n",
            "Epoch 133/150\n",
            "\u001b[1m243/243\u001b[0m \u001b[32m━━━━━━━━━━━━━━━━━━━━\u001b[0m\u001b[37m\u001b[0m \u001b[1m262s\u001b[0m 954ms/step - accuracy: 0.9217 - loss: 0.1175 - val_accuracy: 0.8667 - val_loss: 0.6437\n",
            "Epoch 134/150\n",
            "\u001b[1m243/243\u001b[0m \u001b[32m━━━━━━━━━━━━━━━━━━━━\u001b[0m\u001b[37m\u001b[0m \u001b[1m231s\u001b[0m 949ms/step - accuracy: 0.9221 - loss: 0.1237 - val_accuracy: 0.8790 - val_loss: 0.7254\n",
            "Epoch 135/150\n",
            "\u001b[1m243/243\u001b[0m \u001b[32m━━━━━━━━━━━━━━━━━━━━\u001b[0m\u001b[37m\u001b[0m \u001b[1m231s\u001b[0m 947ms/step - accuracy: 0.9240 - loss: 0.1172 - val_accuracy: 0.8815 - val_loss: 0.7157\n",
            "Epoch 136/150\n",
            "\u001b[1m243/243\u001b[0m \u001b[32m━━━━━━━━━━━━━━━━━━━━\u001b[0m\u001b[37m\u001b[0m \u001b[1m265s\u001b[0m 963ms/step - accuracy: 0.9243 - loss: 0.1164 - val_accuracy: 0.8691 - val_loss: 0.8495\n",
            "Epoch 137/150\n",
            "\u001b[1m243/243\u001b[0m \u001b[32m━━━━━━━━━━━━━━━━━━━━\u001b[0m\u001b[37m\u001b[0m \u001b[1m260s\u001b[0m 954ms/step - accuracy: 0.9228 - loss: 0.1351 - val_accuracy: 0.8790 - val_loss: 0.7194\n",
            "Epoch 138/150\n",
            "\u001b[1m243/243\u001b[0m \u001b[32m━━━━━━━━━━━━━━━━━━━━\u001b[0m\u001b[37m\u001b[0m \u001b[1m229s\u001b[0m 942ms/step - accuracy: 0.9197 - loss: 0.1491 - val_accuracy: 0.8617 - val_loss: 1.2067\n",
            "Epoch 139/150\n",
            "\u001b[1m243/243\u001b[0m \u001b[32m━━━━━━━━━━━━━━━━━━━━\u001b[0m\u001b[37m\u001b[0m \u001b[1m234s\u001b[0m 964ms/step - accuracy: 0.9183 - loss: 0.1473 - val_accuracy: 0.8642 - val_loss: 0.7116\n",
            "Epoch 140/150\n",
            "\u001b[1m243/243\u001b[0m \u001b[32m━━━━━━━━━━━━━━━━━━━━\u001b[0m\u001b[37m\u001b[0m \u001b[1m232s\u001b[0m 955ms/step - accuracy: 0.9169 - loss: 0.1345 - val_accuracy: 0.8691 - val_loss: 0.8545\n",
            "Epoch 141/150\n",
            "\u001b[1m243/243\u001b[0m \u001b[32m━━━━━━━━━━━━━━━━━━━━\u001b[0m\u001b[37m\u001b[0m \u001b[1m227s\u001b[0m 935ms/step - accuracy: 0.9320 - loss: 0.1282 - val_accuracy: 0.8617 - val_loss: 0.8855\n",
            "Epoch 142/150\n",
            "\u001b[1m243/243\u001b[0m \u001b[32m━━━━━━━━━━━━━━━━━━━━\u001b[0m\u001b[37m\u001b[0m \u001b[1m229s\u001b[0m 942ms/step - accuracy: 0.9254 - loss: 0.1338 - val_accuracy: 0.8543 - val_loss: 0.7464\n",
            "Epoch 143/150\n",
            "\u001b[1m243/243\u001b[0m \u001b[32m━━━━━━━━━━━━━━━━━━━━\u001b[0m\u001b[37m\u001b[0m \u001b[1m234s\u001b[0m 963ms/step - accuracy: 0.9219 - loss: 0.1301 - val_accuracy: 0.8568 - val_loss: 0.9191\n",
            "Epoch 144/150\n",
            "\u001b[1m243/243\u001b[0m \u001b[32m━━━━━━━━━━━━━━━━━━━━\u001b[0m\u001b[37m\u001b[0m \u001b[1m260s\u001b[0m 957ms/step - accuracy: 0.9225 - loss: 0.1414 - val_accuracy: 0.8790 - val_loss: 0.7817\n",
            "Epoch 145/150\n",
            "\u001b[1m243/243\u001b[0m \u001b[32m━━━━━━━━━━━━━━━━━━━━\u001b[0m\u001b[37m\u001b[0m \u001b[1m230s\u001b[0m 946ms/step - accuracy: 0.9226 - loss: 0.1442 - val_accuracy: 0.8593 - val_loss: 0.6898\n",
            "Epoch 146/150\n",
            "\u001b[1m243/243\u001b[0m \u001b[32m━━━━━━━━━━━━━━━━━━━━\u001b[0m\u001b[37m\u001b[0m \u001b[1m262s\u001b[0m 945ms/step - accuracy: 0.9200 - loss: 0.1559 - val_accuracy: 0.8568 - val_loss: 0.7091\n",
            "Epoch 147/150\n",
            "\u001b[1m243/243\u001b[0m \u001b[32m━━━━━━━━━━━━━━━━━━━━\u001b[0m\u001b[37m\u001b[0m \u001b[1m233s\u001b[0m 960ms/step - accuracy: 0.9235 - loss: 0.1477 - val_accuracy: 0.8667 - val_loss: 0.7611\n",
            "Epoch 148/150\n",
            "\u001b[1m243/243\u001b[0m \u001b[32m━━━━━━━━━━━━━━━━━━━━\u001b[0m\u001b[37m\u001b[0m \u001b[1m263s\u001b[0m 964ms/step - accuracy: 0.9137 - loss: 0.1389 - val_accuracy: 0.8691 - val_loss: 0.7418\n",
            "Epoch 149/150\n",
            "\u001b[1m243/243\u001b[0m \u001b[32m━━━━━━━━━━━━━━━━━━━━\u001b[0m\u001b[37m\u001b[0m \u001b[1m260s\u001b[0m 956ms/step - accuracy: 0.9286 - loss: 0.1164 - val_accuracy: 0.8741 - val_loss: 0.7643\n",
            "Epoch 150/150\n",
            "\u001b[1m243/243\u001b[0m \u001b[32m━━━━━━━━━━━━━━━━━━━━\u001b[0m\u001b[37m\u001b[0m \u001b[1m232s\u001b[0m 955ms/step - accuracy: 0.9166 - loss: 0.1218 - val_accuracy: 0.8691 - val_loss: 0.8901\n"
          ]
        }
      ],
      "source": [
        "from tensorflow.keras.optimizers import Adam\n",
        "\n",
        "# Tạo optimizer với learning_rate đúng cú pháp\n",
        "opt = Adam(learning_rate=0.001)\n",
        "\n",
        "# Compile mô hình\n",
        "model.compile(optimizer=opt, loss='categorical_crossentropy', metrics=['accuracy'])\n",
        "\n",
        "# Huấn luyện mô hình\n",
        "history = model.fit(train, batch_size=512, epochs=150, verbose=1, validation_data=test)\n"
      ]
    },
    {
      "cell_type": "code",
      "execution_count": null,
      "metadata": {
        "colab": {
          "base_uri": "https://localhost:8080/"
        },
        "id": "la26pwFSLM0a",
        "outputId": "a19767af-cf8b-4bd4-d03a-f95f9c33436e"
      },
      "outputs": [
        {
          "name": "stderr",
          "output_type": "stream",
          "text": [
            "WARNING:absl:You are saving your model as an HDF5 file via `model.save()` or `keras.saving.save_model(model)`. This file format is considered legacy. We recommend using instead the native Keras format, e.g. `model.save('my_model.keras')` or `keras.saving.save_model(model, 'my_model.keras')`. \n"
          ]
        }
      ],
      "source": [
        "model.save('CNN_SignTrafficVN.h5')"
      ]
    },
    {
      "cell_type": "code",
      "execution_count": null,
      "metadata": {
        "colab": {
          "base_uri": "https://localhost:8080/",
          "height": 524
        },
        "id": "Gf2OCdtuLkQu",
        "outputId": "a60a00b8-ad66-4648-b18b-1111e1b3d4a9"
      },
      "outputs": [
        {
          "name": "stdout",
          "output_type": "stream",
          "text": [
            "Test loss=  0.7559112310409546\n",
            "Test accuracy=  0.8790123462677002\n"
          ]
        },
        {
          "data": {
            "text/plain": [
              "<matplotlib.legend.Legend at 0x79ad09f20290>"
            ]
          },
          "execution_count": 6,
          "metadata": {},
          "output_type": "execute_result"
        },
        {
          "data": {
            "image/png": "[encoded data removed]",
            "text/plain": [
              "<Figure size 640x480 with 1 Axes>"
            ]
          },
          "metadata": {},
          "output_type": "display_data"
        }
      ],
      "source": [
        "import matplotlib.pyplot as plt\n",
        "score = model.evaluate(test,verbose=0)\n",
        "print('Test loss= ',score[0])\n",
        "print('Test accuracy= ',score[1])\n",
        "plt.plot(history.history['accuracy'])\n",
        "plt.plot(history.history['val_accuracy'])\n",
        "plt.title('Model Accuracy')\n",
        "plt.ylabel('accuracy')\n",
        "plt.xlabel('epoch')\n",
        "plt.legend(['train','validation'],loc='upper left')"
      ]
    },
    {
      "cell_type": "code",
      "execution_count": null,
      "metadata": {
        "colab": {
          "base_uri": "https://localhost:8080/"
        },
        "id": "Qy6NbHQ5LpRU",
        "outputId": "6d0d33cd-211b-4638-a06b-bbe21b63057f"
      },
      "outputs": [
        {
          "data": {
            "text/plain": [
              "['Duong Cam',\n",
              " 'Cam Di Nguoc Chieu',\n",
              " 'Cam O To',\n",
              " ' Cam O To Re Phai',\n",
              " 'Cam O To Re Trai',\n",
              " 'Cam Xe May',\n",
              " 'Cam O To Va Xe May',\n",
              " 'Cam Xe Tai',\n",
              " 'Cam Xe Tai Tren 2.5 tan',\n",
              " ' Cam O To Khach Va O To',\n",
              " 'Cam O To Ro-Mooc',\n",
              " 'Cam May Keo',\n",
              " 'Cam Xe Dap',\n",
              " 'Cam Xe Dap Tho',\n",
              " 'Cam Xe 3 va 4 Banh Tho So',\n",
              " 'Cam Nguoi Di Bo',\n",
              " 'Cam Xe Keo Day',\n",
              " 'Cam Xe Suc Vat Keo',\n",
              " 'Han Che Trong Luong Xe',\n",
              " 'Han Che Trong Luong Truc Xe',\n",
              " 'Han Che Chieu Cao Xe',\n",
              " 'Han Che Chieu Rong Xe',\n",
              " 'Han Che Chieu Dai O To',\n",
              " 'Han Che Chieu Dai Ro-Mooc',\n",
              " 'Khoang Cach Toi Thieu Giua Hai Xe',\n",
              " 'Dung Lai',\n",
              " 'Cam Re Trai',\n",
              " 'Cam Re phai',\n",
              " 'Cam Quay Dau',\n",
              " 'Cam O To Quay Dau',\n",
              " 'Cam Vuot',\n",
              " 'Cam O To Vuot',\n",
              " 'Toc Do Toi Da',\n",
              " 'Cam Bop Coi',\n",
              " 'Tram Thue Quan',\n",
              " 'Cam Dung Va Do Xe',\n",
              " ' Cam Do Xe',\n",
              " 'Cam Do Xe Ngay Le',\n",
              " ' Cam Do Xe Ngay Chan',\n",
              " 'Nhuong Duong Cho Xe Co Gioi Di Nguoc Chieu Trong Duong Hep',\n",
              " 'Het Cam Vuot',\n",
              " 'Het Han Che Toi Da',\n",
              " 'Het Tat Ca Cac Lenh Cam',\n",
              " 'Cam Di Thang',\n",
              " 'Cam Re Trai Va Phai',\n",
              " 'Cam Di Thang va Re Phai',\n",
              " 'Cam Di Thang va Re Trai',\n",
              " 'Cam Xe Cong Nong',\n",
              " 'Cho Ngoac Vong Ben Trai',\n",
              " 'Cho Ngoac Vong Ben Phai',\n",
              " 'Nhieu Cho Ngoac Nguy Hiem Lien Tiep',\n",
              " 'Duong Hep Hai Ben',\n",
              " ' Duong Hep Ben Trai',\n",
              " ' Duong Hep Ben Phai',\n",
              " 'Duong Hai Chieu',\n",
              " 'Duong Cat Nhau',\n",
              " ' Duong Cat Nhau',\n",
              " ' Duong Cat Nhau.1',\n",
              " 'Duong Cat Nhau.1',\n",
              " 'Duong Cat Nhau.2',\n",
              " 'Duong Giao Nhau Vong Tuyen',\n",
              " 'Giao Nhau Voi Duong Khong Uu Tien',\n",
              " 'Giao Nhau Voi Duong Khong Uu Tien.1',\n",
              " 'Giao Nhau Voi Duong Khong Uu Tien.2',\n",
              " 'Giao Nhau Voi Duong Uu Tien',\n",
              " 'Giao Nhau Voi Tin Hieu Den',\n",
              " 'Giao Nhau Voi Duong Sat Co Rao Chan',\n",
              " 'Giao Nhau Voi Duong Sat Khong Co Rao Chan',\n",
              " 'Cau Hep',\n",
              " 'Cau Tam',\n",
              " 'Cau Xoay - Cau Dat',\n",
              " 'Ke Vuc Sau Phia Truoc',\n",
              " ' Duong Ngam',\n",
              " ' Ben Pha',\n",
              " 'Cua Chui',\n",
              " 'Doc Xuong Nguy Hiem',\n",
              " 'Doc Len Nguy Hiem',\n",
              " 'Duong Khong Bang Phang',\n",
              " 'Duong Tron Truot',\n",
              " 'Vach Nui Nguy Hiem',\n",
              " 'Nguoi Di bo Cat Ngang',\n",
              " 'Tre Em',\n",
              " ' Nguoi Di Xe Dap Cat Ngang',\n",
              " 'Cong Truong',\n",
              " 'Da Lo',\n",
              " 'Dai May bay',\n",
              " 'Gia Suc',\n",
              " ' Thu Rung Di Ngang',\n",
              " 'Gio Ngang',\n",
              " 'Nguy Hiem Khac',\n",
              " 'Giao Nhau Voi Duong Hai Chieu',\n",
              " 'Duong Doi',\n",
              " 'Het Duong Doi',\n",
              " 'Cau Vong',\n",
              " 'Duong Cap Dien Phia Tren',\n",
              " 'Duong Cao Toc Phia Truoc',\n",
              " 'Duong Ham',\n",
              " 'Cho Duong Sat Cat Duong Bo',\n",
              " 'Duong Sat Cat Duong Bo Khong Vuong Goc',\n",
              " 'Doan Duong Hay Xay Ra Tai Nan',\n",
              " 'Di Cham',\n",
              " 'Vong Tranh Hai Ben',\n",
              " ' Vong Tranh Ben Trai',\n",
              " 'Vong Tranh Ben Phai',\n",
              " 'Cac Xe Chi Duoc Di Thang',\n",
              " 'Cac Xe Chi Duoc Re Phai',\n",
              " 'Cac Xe Chi Duoc Re Trai',\n",
              " 'Cac Xe Chi Duoc Re Phai.1',\n",
              " 'Cac Xe Chi Duoc Re Trai.1',\n",
              " 'Cac Xe Chi Duoc Di Thang va Re Trai',\n",
              " 'Cac Xe Chi Duoc Di Thang va Re Phai',\n",
              " 'Cac Xe Chi Duoc Re Trai va Re Phai',\n",
              " 'Huong Di Vong Chuong Ngai Vat Sang Phai',\n",
              " 'Huong Di Vong Chuong Ngai Vat Sang Trai',\n",
              " 'Noi Giao Nhau Chay Theo Vong Tuyen',\n",
              " 'Duong Danh Cho Xe Tho So',\n",
              " 'Duong Danh Cho Nguoi Di Bo',\n",
              " ' Toc Do Toi Thieu Cho Phep',\n",
              " 'Het Han Che Toc Do Toi Thieu',\n",
              " ' Tuyen Duong Cau Vuot Bat Qua',\n",
              " 'An Coi']"
            ]
          },
          "execution_count": 7,
          "metadata": {},
          "output_type": "execute_result"
        }
      ],
      "source": [
        "\n",
        "import pandas as pd\n",
        "clases = pd.read_csv('/content/drive/MyDrive/Dataset_trafficsignsVN/class.csv')\n",
        "clases = list(clases)\n",
        "clases"
      ]
    },
    {
      "cell_type": "code",
      "execution_count": null,
      "metadata": {
        "colab": {
          "base_uri": "https://localhost:8080/",
          "height": 441
        },
        "id": "EJNe_Qy0Lvbj",
        "outputId": "c549c149-8e3c-4ef4-dd87-fc9720e19352"
      },
      "outputs": [
        {
          "data": {
            "image/png": "[encoded data removed]",
            "text/plain": [
              "<Figure size 640x480 with 1 Axes>"
            ]
          },
          "metadata": {},
          "output_type": "display_data"
        },
        {
          "name": "stdout",
          "output_type": "stream",
          "text": [
            "\u001b[1m1/1\u001b[0m \u001b[32m━━━━━━━━━━━━━━━━━━━━\u001b[0m\u001b[37m\u001b[0m \u001b[1m0s\u001b[0m 413ms/step\n",
            "Duong Cam\n"
          ]
        }
      ],
      "source": [
        "# Import thư viện\n",
        "import numpy as np\n",
        "from tensorflow.keras.utils import load_img, img_to_array\n",
        "import matplotlib.pyplot as plt\n",
        "\n",
        "# Đường dẫn tới ảnh\n",
        "path_to_image = '/content/drive/MyDrive/Dataset_trafficsignsVN/Test/101/1.png'\n",
        "\n",
        "# Load ảnh\n",
        "img = load_img(path_to_image, target_size=(64,64))\n",
        "plt.imshow(img)\n",
        "plt.axis('off')  # Ẩn trục\n",
        "plt.show()\n",
        "\n",
        "# Chuyển ảnh thành array\n",
        "img = img_to_array(img)\n",
        "img = img.reshape(1, 64, 64, 3)  # Reshape về dạng 4D\n",
        "img = img.astype('float32') / 255  # Normalize\n",
        "\n",
        "# Dự đoán\n",
        "prediction = model.predict(img)\n",
        "predicted_class = np.argmax(prediction)\n",
        "\n",
        "# In ra kết quả\n",
        "print(clases[predicted_class])\n"
      ]
    },
    {
      "cell_type": "code",
      "execution_count": null,
      "metadata": {
        "colab": {
          "base_uri": "https://localhost:8080/",
          "height": 441
        },
        "id": "JRRqvwDHMySF",
        "outputId": "c0ff5b48-41a3-4ca1-d829-5e4c8b542246"
      },
      "outputs": [
        {
          "data": {
            "image/png": "[encoded data removed]",
            "text/plain": [
              "<Figure size 640x480 with 1 Axes>"
            ]
          },
          "metadata": {},
          "output_type": "display_data"
        },
        {
          "name": "stdout",
          "output_type": "stream",
          "text": [
            "\u001b[1m1/1\u001b[0m \u001b[32m━━━━━━━━━━━━━━━━━━━━\u001b[0m\u001b[37m\u001b[0m \u001b[1m0s\u001b[0m 58ms/step\n",
            "Cam Di Nguoc Chieu\n"
          ]
        }
      ],
      "source": [
        "# Import thư viện\n",
        "import numpy as np\n",
        "from tensorflow.keras.utils import load_img, img_to_array\n",
        "import matplotlib.pyplot as plt\n",
        "\n",
        "# Đường dẫn tới ảnh\n",
        "path_to_image = '/content/drive/MyDrive/Dataset_trafficsignsVN/Test/102/11.JPG'\n",
        "\n",
        "# Load ảnh\n",
        "img = load_img(path_to_image, target_size=(64,64))\n",
        "plt.imshow(img)\n",
        "plt.axis('off')  # Ẩn trục\n",
        "plt.show()\n",
        "\n",
        "# Chuyển ảnh thành array\n",
        "img = img_to_array(img)\n",
        "img = img.reshape(1, 64, 64, 3)  # Reshape về dạng 4D\n",
        "img = img.astype('float32') / 255  # Normalize\n",
        "\n",
        "# Dự đoán\n",
        "prediction = model.predict(img)\n",
        "predicted_class = np.argmax(prediction)\n",
        "\n",
        "# In ra kết quả\n",
        "print(clases[predicted_class])"
      ]
    },
    {
      "cell_type": "code",
      "execution_count": null,
      "metadata": {
        "colab": {
          "base_uri": "https://localhost:8080/",
          "height": 441
        },
        "id": "Kbj6x07nNlcn",
        "outputId": "5edfb93a-f599-4a8b-e5aa-bc32ce3ec6f0"
      },
      "outputs": [
        {
          "data": {
            "image/png": "[encoded data removed]",
            "text/plain": [
              "<Figure size 640x480 with 1 Axes>"
            ]
          },
          "metadata": {},
          "output_type": "display_data"
        },
        {
          "name": "stdout",
          "output_type": "stream",
          "text": [
            "\u001b[1m1/1\u001b[0m \u001b[32m━━━━━━━━━━━━━━━━━━━━\u001b[0m\u001b[37m\u001b[0m \u001b[1m0s\u001b[0m 65ms/step\n",
            "Cam O To\n"
          ]
        }
      ],
      "source": [
        "# Import thư viện\n",
        "import numpy as np\n",
        "from tensorflow.keras.utils import load_img, img_to_array\n",
        "import matplotlib.pyplot as plt\n",
        "\n",
        "# Đường dẫn tới ảnh\n",
        "path_to_image = '/content/drive/MyDrive/Dataset_trafficsignsVN/Test/103/12.JPG'\n",
        "# Load ảnh\n",
        "img = load_img(path_to_image, target_size=(64,64))\n",
        "plt.imshow(img)\n",
        "plt.axis('off')  # Ẩn trục\n",
        "plt.show()\n",
        "\n",
        "# Chuyển ảnh thành array\n",
        "img = img_to_array(img)\n",
        "img = img.reshape(1, 64, 64, 3)\n",
        "img = img.astype('float32') / 255\n",
        "\n",
        "# Dự đoán\n",
        "prediction = model.predict(img)\n",
        "predicted_class = np.argmax(prediction)\n",
        "\n",
        "# In ra kết quả\n",
        "print(clases[predicted_class])"
      ]
    },
    {
      "cell_type": "code",
      "execution_count": null,
      "metadata": {
        "colab": {
          "base_uri": "https://localhost:8080/",
          "height": 441
        },
        "id": "GoMhftQgNpZb",
        "outputId": "4964da81-94cf-44c2-d992-5afcadd4d6d3"
      },
      "outputs": [
        {
          "data": {
            "image/png": "[encoded data removed]",
            "text/plain": [
              "<Figure size 640x480 with 1 Axes>"
            ]
          },
          "metadata": {},
          "output_type": "display_data"
        },
        {
          "name": "stdout",
          "output_type": "stream",
          "text": [
            "\u001b[1m1/1\u001b[0m \u001b[32m━━━━━━━━━━━━━━━━━━━━\u001b[0m\u001b[37m\u001b[0m \u001b[1m0s\u001b[0m 60ms/step\n",
            "Cam O To Re Trai\n"
          ]
        }
      ],
      "source": [
        "# Import thư viện\n",
        "import numpy as np\n",
        "from tensorflow.keras.utils import load_img, img_to_array\n",
        "import matplotlib.pyplot as plt\n",
        "\n",
        "# Đường dẫn tới ảnh\n",
        "path_to_image = '/content/drive/MyDrive/Dataset_trafficsignsVN/Test/103c/4.JPG'\n",
        "\n",
        "# Load ảnh\n",
        "img = load_img(path_to_image, target_size=(64,64))\n",
        "plt.imshow(img)\n",
        "plt.axis('off')  # Ẩn trục\n",
        "plt.show()\n",
        "\n",
        "# Chuyển ảnh thành array\n",
        "img = img_to_array(img)\n",
        "img = img.reshape(1, 64, 64, 3)\n",
        "img = img.astype('float32') / 255\n",
        "\n",
        "# Dự đoán\n",
        "prediction = model.predict(img)\n",
        "predicted_class = np.argmax(prediction)\n",
        "\n",
        "# In ra kết quả\n",
        "print(clases[predicted_class])"
      ]
    },
    {
      "cell_type": "code",
      "execution_count": null,
      "metadata": {
        "colab": {
          "base_uri": "https://localhost:8080/",
          "height": 441
        },
        "id": "169vwx3AN3-_",
        "outputId": "4be75962-0833-4255-fe11-1bd3b08b8323"
      },
      "outputs": [
        {
          "data": {
            "image/png": "[encoded data removed]",
            "text/plain": [
              "<Figure size 640x480 with 1 Axes>"
            ]
          },
          "metadata": {},
          "output_type": "display_data"
        },
        {
          "name": "stdout",
          "output_type": "stream",
          "text": [
            "\u001b[1m1/1\u001b[0m \u001b[32m━━━━━━━━━━━━━━━━━━━━\u001b[0m\u001b[37m\u001b[0m \u001b[1m0s\u001b[0m 62ms/step\n",
            " Cam O To Re Phai\n"
          ]
        }
      ],
      "source": [
        "# Import thư viện\n",
        "import numpy as np\n",
        "from tensorflow.keras.utils import load_img, img_to_array\n",
        "import matplotlib.pyplot as plt\n",
        "\n",
        "# Đường dẫn tới ảnh\n",
        "path_to_image = '/content/drive/MyDrive/Dataset_trafficsignsVN/Test/103b/11.JPG'\n",
        "# Load ảnh\n",
        "img = load_img(path_to_image, target_size=(64,64))\n",
        "plt.imshow(img)\n",
        "plt.axis('off')\n",
        "plt.show()\n",
        "\n",
        "# Chuyển ảnh thành array\n",
        "img = img_to_array(img)\n",
        "img = img.reshape(1, 64, 64, 3)\n",
        "img = img.astype('float32') / 255\n",
        "\n",
        "# Dự đoán\n",
        "prediction = model.predict(img)\n",
        "predicted_class = np.argmax(prediction)\n",
        "\n",
        "# In ra kết quả\n",
        "print(clases[predicted_class])"
      ]
    },
    {
      "cell_type": "code",
      "execution_count": null,
      "metadata": {
        "colab": {
          "base_uri": "https://localhost:8080/"
        },
        "id": "TTCsfHiWOOZM",
        "outputId": "23e2bded-72a1-447c-a617-a32ff06ce929"
      },
      "outputs": [
        {
          "output_type": "stream",
          "name": "stderr",
          "text": [
            "/usr/local/lib/python3.11/dist-packages/keras/src/layers/convolutional/base_conv.py:107: UserWarning: Do not pass an `input_shape`/`input_dim` argument to a layer. When using Sequential models, prefer using an `Input(shape)` object as the first layer in the model instead.\n",
            "  super().__init__(activity_regularizer=activity_regularizer, **kwargs)\n",
            "/usr/local/lib/python3.11/dist-packages/keras/src/optimizers/base_optimizer.py:86: UserWarning: Argument `decay` is no longer supported and will be ignored.\n",
            "  warnings.warn(\n",
            "WARNING:absl:Compiled the loaded model, but the compiled metrics have yet to be built. `model.compile_metrics` will be empty until you train or evaluate the model.\n",
            "WARNING:absl:Error in loading the saved optimizer state. As a result, your model is starting with a freshly initialized optimizer.\n"
          ]
        }
      ],
      "source": [
        "from keras.models import load_model\n",
        "import pandas as pd\n",
        "# Load model Nhận diện\n",
        "model = load_model(\"/content/drive/MyDrive/Dataset_trafficsignsVN/CNN_SignTrafficVN.h5\")\n",
        "#load nhãn cho model\n",
        "classes = pd.read_csv('/content/drive/MyDrive/Dataset_trafficsignsVN/class.csv')\n",
        "classes = list(classes)"
      ]
    },
    {
      "cell_type": "code",
      "execution_count": null,
      "metadata": {
        "colab": {
          "base_uri": "https://localhost:8080/"
        },
        "collapsed": true,
        "id": "Tk2rC4kKOgJM",
        "outputId": "a12c0b28-8234-4424-ab57-acd7f9426ddc"
      },
      "outputs": [
        {
          "name": "stdout",
          "output_type": "stream",
          "text": [
            "Collecting gradio\n",
            "  Downloading gradio-5.27.1-py3-none-any.whl.metadata (16 kB)\n",
            "Collecting aiofiles<25.0,>=22.0 (from gradio)\n",
            "  Downloading aiofiles-24.1.0-py3-none-any.whl.metadata (10 kB)\n",
            "Requirement already satisfied: anyio<5.0,>=3.0 in /usr/local/lib/python3.11/dist-packages (from gradio) (4.9.0)\n",
            "Collecting fastapi<1.0,>=0.115.2 (from gradio)\n",
            "  Downloading fastapi-0.115.12-py3-none-any.whl.metadata (27 kB)\n",
            "Collecting ffmpy (from gradio)\n",
            "  Downloading ffmpy-0.5.0-py3-none-any.whl.metadata (3.0 kB)\n",
            "Collecting gradio-client==1.9.1 (from gradio)\n",
            "  Downloading gradio_client-1.9.1-py3-none-any.whl.metadata (7.1 kB)\n",
            "Collecting groovy~=0.1 (from gradio)\n",
            "  Downloading groovy-0.1.2-py3-none-any.whl.metadata (6.1 kB)\n",
            "Requirement already satisfied: httpx>=0.24.1 in /usr/local/lib/python3.11/dist-packages (from gradio) (0.28.1)\n",
            "Requirement already satisfied: huggingface-hub>=0.28.1 in /usr/local/lib/python3.11/dist-packages (from gradio) (0.30.2)\n",
            "Requirement already satisfied: jinja2<4.0 in /usr/local/lib/python3.11/dist-packages (from gradio) (3.1.6)\n",
            "Requirement already satisfied: markupsafe<4.0,>=2.0 in /usr/local/lib/python3.11/dist-packages (from gradio) (3.0.2)\n",
            "Requirement already satisfied: numpy<3.0,>=1.0 in /usr/local/lib/python3.11/dist-packages (from gradio) (2.0.2)\n",
            "Requirement already satisfied: orjson~=3.0 in /usr/local/lib/python3.11/dist-packages (from gradio) (3.10.16)\n",
            "Requirement already satisfied: packaging in /usr/local/lib/python3.11/dist-packages (from gradio) (24.2)\n",
            "Requirement already satisfied: pandas<3.0,>=1.0 in /usr/local/lib/python3.11/dist-packages (from gradio) (2.2.2)\n",
            "Requirement already satisfied: pillow<12.0,>=8.0 in /usr/local/lib/python3.11/dist-packages (from gradio) (11.2.1)\n",
            "Requirement already satisfied: pydantic<2.12,>=2.0 in /usr/local/lib/python3.11/dist-packages (from gradio) (2.11.3)\n",
            "Collecting pydub (from gradio)\n",
            "  Downloading pydub-0.25.1-py2.py3-none-any.whl.metadata (1.4 kB)\n",
            "Collecting python-multipart>=0.0.18 (from gradio)\n",
            "  Downloading python_multipart-0.0.20-py3-none-any.whl.metadata (1.8 kB)\n",
            "Requirement already satisfied: pyyaml<7.0,>=5.0 in /usr/local/lib/python3.11/dist-packages (from gradio) (6.0.2)\n",
            "Collecting ruff>=0.9.3 (from gradio)\n",
            "  Downloading ruff-0.11.7-py3-none-manylinux_2_17_x86_64.manylinux2014_x86_64.whl.metadata (25 kB)\n",
            "Collecting safehttpx<0.2.0,>=0.1.6 (from gradio)\n",
            "  Downloading safehttpx-0.1.6-py3-none-any.whl.metadata (4.2 kB)\n",
            "Collecting semantic-version~=2.0 (from gradio)\n",
            "  Downloading semantic_version-2.10.0-py2.py3-none-any.whl.metadata (9.7 kB)\n",
            "Collecting starlette<1.0,>=0.40.0 (from gradio)\n",
            "  Downloading starlette-0.46.2-py3-none-any.whl.metadata (6.2 kB)\n",
            "Collecting tomlkit<0.14.0,>=0.12.0 (from gradio)\n",
            "  Downloading tomlkit-0.13.2-py3-none-any.whl.metadata (2.7 kB)\n",
            "Requirement already satisfied: typer<1.0,>=0.12 in /usr/local/lib/python3.11/dist-packages (from gradio) (0.15.2)\n",
            "Requirement already satisfied: typing-extensions~=4.0 in /usr/local/lib/python3.11/dist-packages (from gradio) (4.13.2)\n",
            "Collecting uvicorn>=0.14.0 (from gradio)\n",
            "  Downloading uvicorn-0.34.2-py3-none-any.whl.metadata (6.5 kB)\n",
            "Requirement already satisfied: fsspec in /usr/local/lib/python3.11/dist-packages (from gradio-client==1.9.1->gradio) (2025.3.2)\n",
            "Requirement already satisfied: websockets<16.0,>=10.0 in /usr/local/lib/python3.11/dist-packages (from gradio-client==1.9.1->gradio) (15.0.1)\n",
            "Requirement already satisfied: idna>=2.8 in /usr/local/lib/python3.11/dist-packages (from anyio<5.0,>=3.0->gradio) (3.10)\n",
            "Requirement already satisfied: sniffio>=1.1 in /usr/local/lib/python3.11/dist-packages (from anyio<5.0,>=3.0->gradio) (1.3.1)\n",
            "Requirement already satisfied: certifi in /usr/local/lib/python3.11/dist-packages (from httpx>=0.24.1->gradio) (2025.1.31)\n",
            "Requirement already satisfied: httpcore==1.* in /usr/local/lib/python3.11/dist-packages (from httpx>=0.24.1->gradio) (1.0.9)\n",
            "Requirement already satisfied: h11>=0.16 in /usr/local/lib/python3.11/dist-packages (from httpcore==1.*->httpx>=0.24.1->gradio) (0.16.0)\n",
            "Requirement already satisfied: filelock in /usr/local/lib/python3.11/dist-packages (from huggingface-hub>=0.28.1->gradio) (3.18.0)\n",
            "Requirement already satisfied: requests in /usr/local/lib/python3.11/dist-packages (from huggingface-hub>=0.28.1->gradio) (2.32.3)\n",
            "Requirement already satisfied: tqdm>=4.42.1 in /usr/local/lib/python3.11/dist-packages (from huggingface-hub>=0.28.1->gradio) (4.67.1)\n",
            "Requirement already satisfied: python-dateutil>=2.8.2 in /usr/local/lib/python3.11/dist-packages (from pandas<3.0,>=1.0->gradio) (2.9.0.post0)\n",
            "Requirement already satisfied: pytz>=2020.1 in /usr/local/lib/python3.11/dist-packages (from pandas<3.0,>=1.0->gradio) (2025.2)\n",
            "Requirement already satisfied: tzdata>=2022.7 in /usr/local/lib/python3.11/dist-packages (from pandas<3.0,>=1.0->gradio) (2025.2)\n",
            "Requirement already satisfied: annotated-types>=0.6.0 in /usr/local/lib/python3.11/dist-packages (from pydantic<2.12,>=2.0->gradio) (0.7.0)\n",
            "Requirement already satisfied: pydantic-core==2.33.1 in /usr/local/lib/python3.11/dist-packages (from pydantic<2.12,>=2.0->gradio) (2.33.1)\n",
            "Requirement already satisfied: typing-inspection>=0.4.0 in /usr/local/lib/python3.11/dist-packages (from pydantic<2.12,>=2.0->gradio) (0.4.0)\n",
            "Requirement already satisfied: click>=8.0.0 in /usr/local/lib/python3.11/dist-packages (from typer<1.0,>=0.12->gradio) (8.1.8)\n",
            "Requirement already satisfied: shellingham>=1.3.0 in /usr/local/lib/python3.11/dist-packages (from typer<1.0,>=0.12->gradio) (1.5.4)\n",
            "Requirement already satisfied: rich>=10.11.0 in /usr/local/lib/python3.11/dist-packages (from typer<1.0,>=0.12->gradio) (13.9.4)\n",
            "Requirement already satisfied: six>=1.5 in /usr/local/lib/python3.11/dist-packages (from python-dateutil>=2.8.2->pandas<3.0,>=1.0->gradio) (1.17.0)\n",
            "Requirement already satisfied: markdown-it-py>=2.2.0 in /usr/local/lib/python3.11/dist-packages (from rich>=10.11.0->typer<1.0,>=0.12->gradio) (3.0.0)\n",
            "Requirement already satisfied: pygments<3.0.0,>=2.13.0 in /usr/local/lib/python3.11/dist-packages (from rich>=10.11.0->typer<1.0,>=0.12->gradio) (2.19.1)\n",
            "Requirement already satisfied: charset-normalizer<4,>=2 in /usr/local/lib/python3.11/dist-packages (from requests->huggingface-hub>=0.28.1->gradio) (3.4.1)\n",
            "Requirement already satisfied: urllib3<3,>=1.21.1 in /usr/local/lib/python3.11/dist-packages (from requests->huggingface-hub>=0.28.1->gradio) (2.4.0)\n",
            "Requirement already satisfied: mdurl~=0.1 in /usr/local/lib/python3.11/dist-packages (from markdown-it-py>=2.2.0->rich>=10.11.0->typer<1.0,>=0.12->gradio) (0.1.2)\n",
            "Downloading gradio-5.27.1-py3-none-any.whl (54.0 MB)\n",
            "\u001b[2K   \u001b[90m━━━━━━━━━━━━━━━━━━━━━━━━━━━━━━━━━━━━━━━━\u001b[0m \u001b[32m54.0/54.0 MB\u001b[0m \u001b[31m14.1 MB/s\u001b[0m eta \u001b[36m0:00:00\u001b[0m\n",
            "\u001b[?25hDownloading gradio_client-1.9.1-py3-none-any.whl (322 kB)\n",
            "\u001b[2K   \u001b[90m━━━━━━━━━━━━━━━━━━━━━━━━━━━━━━━━━━━━━━━━\u001b[0m \u001b[32m322.7/322.7 kB\u001b[0m \u001b[31m15.9 MB/s\u001b[0m eta \u001b[36m0:00:00\u001b[0m\n",
            "\u001b[?25hDownloading aiofiles-24.1.0-py3-none-any.whl (15 kB)\n",
            "Downloading fastapi-0.115.12-py3-none-any.whl (95 kB)\n",
            "\u001b[2K   \u001b[90m━━━━━━━━━━━━━━━━━━━━━━━━━━━━━━━━━━━━━━━━\u001b[0m \u001b[32m95.2/95.2 kB\u001b[0m \u001b[31m6.0 MB/s\u001b[0m eta \u001b[36m0:00:00\u001b[0m\n",
            "\u001b[?25hDownloading groovy-0.1.2-py3-none-any.whl (14 kB)\n",
            "Downloading python_multipart-0.0.20-py3-none-any.whl (24 kB)\n",
            "Downloading ruff-0.11.7-py3-none-manylinux_2_17_x86_64.manylinux2014_x86_64.whl (11.5 MB)\n",
            "\u001b[2K   \u001b[90m━━━━━━━━━━━━━━━━━━━━━━━━━━━━━━━━━━━━━━━━\u001b[0m \u001b[32m11.5/11.5 MB\u001b[0m \u001b[31m80.9 MB/s\u001b[0m eta \u001b[36m0:00:00\u001b[0m\n",
            "\u001b[?25hDownloading safehttpx-0.1.6-py3-none-any.whl (8.7 kB)\n",
            "Downloading semantic_version-2.10.0-py2.py3-none-any.whl (15 kB)\n",
            "Downloading starlette-0.46.2-py3-none-any.whl (72 kB)\n",
            "\u001b[2K   \u001b[90m━━━━━━━━━━━━━━━━━━━━━━━━━━━━━━━━━━━━━━━━\u001b[0m \u001b[32m72.0/72.0 kB\u001b[0m \u001b[31m5.5 MB/s\u001b[0m eta \u001b[36m0:00:00\u001b[0m\n",
            "\u001b[?25hDownloading tomlkit-0.13.2-py3-none-any.whl (37 kB)\n",
            "Downloading uvicorn-0.34.2-py3-none-any.whl (62 kB)\n",
            "\u001b[2K   \u001b[90m━━━━━━━━━━━━━━━━━━━━━━━━━━━━━━━━━━━━━━━━\u001b[0m \u001b[32m62.5/62.5 kB\u001b[0m \u001b[31m4.6 MB/s\u001b[0m eta \u001b[36m0:00:00\u001b[0m\n",
            "\u001b[?25hDownloading ffmpy-0.5.0-py3-none-any.whl (6.0 kB)\n",
            "Downloading pydub-0.25.1-py2.py3-none-any.whl (32 kB)\n",
            "Installing collected packages: pydub, uvicorn, tomlkit, semantic-version, ruff, python-multipart, groovy, ffmpy, aiofiles, starlette, safehttpx, gradio-client, fastapi, gradio\n",
            "Successfully installed aiofiles-24.1.0 fastapi-0.115.12 ffmpy-0.5.0 gradio-5.27.1 gradio-client-1.9.1 groovy-0.1.2 pydub-0.25.1 python-multipart-0.0.20 ruff-0.11.7 safehttpx-0.1.6 semantic-version-2.10.0 starlette-0.46.2 tomlkit-0.13.2 uvicorn-0.34.2\n"
          ]
        }
      ],
      "source": [
        "!pip install gradio"
      ]
    },
    {
      "cell_type": "code",
      "execution_count": null,
      "metadata": {
        "id": "X26RZSGHOTMX"
      },
      "outputs": [],
      "source": [
        "import gradio as gr\n",
        "import tensorflow as tf\n",
        "from tensorflow import keras\n",
        "import matplotlib.pyplot as plt\n",
        "import numpy as np\n",
        "from tensorflow.keras.utils import load_img,img_to_array\n"
      ]
    },
    {
      "cell_type": "code",
      "source": [
        "import gradio as gr\n",
        "import numpy as np\n",
        "from tensorflow.keras.preprocessing.image import img_to_array\n",
        "\n",
        "# Giả sử bạn đã load model và class\n",
        "# model = load_model(\"path_to_model.h5\")\n",
        "# classes = [\"Biển 1\", \"Biển 2\", ..., \"Biển 121\"]\n",
        "\n",
        "def predict_object(image):\n",
        "    # Tiền xử lý ảnh\n",
        "    image = img_to_array(image)\n",
        "    image = image.reshape(1, 64, 64, 3)  # Điều chỉnh theo kích thước model yêu cầu\n",
        "\n",
        "    # Dự đoán\n",
        "    prediction = model.predict(image)[0]\n",
        "\n",
        "    # Chuyển sang dictionary: {label: xác suất}\n",
        "    result = {classes[i]: float(prediction[i]) for i in range(len(classes))}\n",
        "\n",
        "    return result\n",
        "\n",
        "# Giao diện Gradio\n",
        "gr.Interface(\n",
        "    fn=predict_object,\n",
        "    inputs=gr.Image(type=\"numpy\", image_mode=\"RGB\"),\n",
        "    outputs=gr.Label(num_top_classes=3),\n",
        "    live=False\n",
        ").launch(debug=True)\n"
      ],
      "metadata": {
        "colab": {
          "base_uri": "https://localhost:8080/",
          "height": 1000
        },
        "id": "HL7gr5pI6Gjc",
        "outputId": "a1f69709-7aaa-4b35-a8a2-7c5e40d9af99"
      },
      "execution_count": null,
      "outputs": [
        {
          "output_type": "stream",
          "name": "stdout",
          "text": [
            "It looks like you are running Gradio on a hosted a Jupyter notebook. For the Gradio app to work, sharing must be enabled. Automatically setting `share=True` (you can turn this off by setting `share=False` in `launch()` explicitly).\n",
            "\n",
            "Colab notebook detected. This cell will run indefinitely so that you can see errors and logs. To turn off, set debug=False in launch().\n",
            "* Running on public URL: https://4ac3860b84684c0732.gradio.live\n",
            "\n",
            "This share link expires in 1 week. For free permanent hosting and GPU upgrades, run `gradio deploy` from the terminal in the working directory to deploy to Hugging Face Spaces (https://huggingface.co/spaces)\n"
          ]
        },
        {
          "output_type": "display_data",
          "data": {
            "text/plain": [
              "<IPython.core.display.HTML object>"
            ],
            "text/html": [
              "<div><iframe src=\"https://4ac3860b84684c0732.gradio.live\" width=\"100%\" height=\"500\" allow=\"autoplay; camera; microphone; clipboard-read; clipboard-write;\" frameborder=\"0\" allowfullscreen></iframe></div>"
            ]
          },
          "metadata": {}
        },
        {
          "output_type": "stream",
          "name": "stderr",
          "text": [
            "Traceback (most recent call last):\n",
            "  File \"/usr/local/lib/python3.11/dist-packages/gradio/queueing.py\", line 625, in process_events\n",
            "    response = await route_utils.call_process_api(\n",
            "               ^^^^^^^^^^^^^^^^^^^^^^^^^^^^^^^^^^^\n",
            "  File \"/usr/local/lib/python3.11/dist-packages/gradio/route_utils.py\", line 322, in call_process_api\n",
            "    output = await app.get_blocks().process_api(\n",
            "             ^^^^^^^^^^^^^^^^^^^^^^^^^^^^^^^^^^^\n",
            "  File \"/usr/local/lib/python3.11/dist-packages/gradio/blocks.py\", line 2191, in process_api\n",
            "    result = await self.call_function(\n",
            "             ^^^^^^^^^^^^^^^^^^^^^^^^^\n",
            "  File \"/usr/local/lib/python3.11/dist-packages/gradio/blocks.py\", line 1702, in call_function\n",
            "    prediction = await anyio.to_thread.run_sync(  # type: ignore\n",
            "                 ^^^^^^^^^^^^^^^^^^^^^^^^^^^^^^^^^^^^^^^^^^^^^^^\n",
            "  File \"/usr/local/lib/python3.11/dist-packages/anyio/to_thread.py\", line 56, in run_sync\n",
            "    return await get_async_backend().run_sync_in_worker_thread(\n",
            "           ^^^^^^^^^^^^^^^^^^^^^^^^^^^^^^^^^^^^^^^^^^^^^^^^^^^^\n",
            "  File \"/usr/local/lib/python3.11/dist-packages/anyio/_backends/_asyncio.py\", line 2470, in run_sync_in_worker_thread\n",
            "    return await future\n",
            "           ^^^^^^^^^^^^\n",
            "  File \"/usr/local/lib/python3.11/dist-packages/anyio/_backends/_asyncio.py\", line 967, in run\n",
            "    result = context.run(func, *args)\n",
            "             ^^^^^^^^^^^^^^^^^^^^^^^^\n",
            "  File \"/usr/local/lib/python3.11/dist-packages/gradio/utils.py\", line 894, in wrapper\n",
            "    response = f(*args, **kwargs)\n",
            "               ^^^^^^^^^^^^^^^^^^\n",
            "  File \"<ipython-input-7-1367213039>\", line 12, in predict_object\n",
            "    image = image.reshape(1, 64, 64, 3)  # Điều chỉnh theo kích thước model yêu cầu\n",
            "            ^^^^^^^^^^^^^^^^^^^^^^^^^^^\n",
            "ValueError: cannot reshape array of size 164268 into shape (1,64,64,3)\n"
          ]
        },
        {
          "output_type": "stream",
          "name": "stdout",
          "text": [
            "\u001b[1m1/1\u001b[0m \u001b[32m━━━━━━━━━━━━━━━━━━━━\u001b[0m\u001b[37m\u001b[0m \u001b[1m0s\u001b[0m 45ms/step\n"
          ]
        },
        {
          "output_type": "stream",
          "name": "stderr",
          "text": [
            "Traceback (most recent call last):\n",
            "  File \"/usr/local/lib/python3.11/dist-packages/gradio/queueing.py\", line 625, in process_events\n",
            "    response = await route_utils.call_process_api(\n",
            "               ^^^^^^^^^^^^^^^^^^^^^^^^^^^^^^^^^^^\n",
            "  File \"/usr/local/lib/python3.11/dist-packages/gradio/route_utils.py\", line 322, in call_process_api\n",
            "    output = await app.get_blocks().process_api(\n",
            "             ^^^^^^^^^^^^^^^^^^^^^^^^^^^^^^^^^^^\n",
            "  File \"/usr/local/lib/python3.11/dist-packages/gradio/blocks.py\", line 2191, in process_api\n",
            "    result = await self.call_function(\n",
            "             ^^^^^^^^^^^^^^^^^^^^^^^^^\n",
            "  File \"/usr/local/lib/python3.11/dist-packages/gradio/blocks.py\", line 1702, in call_function\n",
            "    prediction = await anyio.to_thread.run_sync(  # type: ignore\n",
            "                 ^^^^^^^^^^^^^^^^^^^^^^^^^^^^^^^^^^^^^^^^^^^^^^^\n",
            "  File \"/usr/local/lib/python3.11/dist-packages/anyio/to_thread.py\", line 56, in run_sync\n",
            "    return await get_async_backend().run_sync_in_worker_thread(\n",
            "           ^^^^^^^^^^^^^^^^^^^^^^^^^^^^^^^^^^^^^^^^^^^^^^^^^^^^\n",
            "  File \"/usr/local/lib/python3.11/dist-packages/anyio/_backends/_asyncio.py\", line 2470, in run_sync_in_worker_thread\n",
            "    return await future\n",
            "           ^^^^^^^^^^^^\n",
            "  File \"/usr/local/lib/python3.11/dist-packages/anyio/_backends/_asyncio.py\", line 967, in run\n",
            "    result = context.run(func, *args)\n",
            "             ^^^^^^^^^^^^^^^^^^^^^^^^\n",
            "  File \"/usr/local/lib/python3.11/dist-packages/gradio/utils.py\", line 894, in wrapper\n",
            "    response = f(*args, **kwargs)\n",
            "               ^^^^^^^^^^^^^^^^^^\n",
            "  File \"<ipython-input-7-1367213039>\", line 12, in predict_object\n",
            "    image = image.reshape(1, 64, 64, 3)  # Điều chỉnh theo kích thước model yêu cầu\n",
            "            ^^^^^^^^^^^^^^^^^^^^^^^^^^^\n",
            "ValueError: cannot reshape array of size 34662 into shape (1,64,64,3)\n",
            "Traceback (most recent call last):\n",
            "  File \"/usr/local/lib/python3.11/dist-packages/gradio/queueing.py\", line 625, in process_events\n",
            "    response = await route_utils.call_process_api(\n",
            "               ^^^^^^^^^^^^^^^^^^^^^^^^^^^^^^^^^^^\n",
            "  File \"/usr/local/lib/python3.11/dist-packages/gradio/route_utils.py\", line 322, in call_process_api\n",
            "    output = await app.get_blocks().process_api(\n",
            "             ^^^^^^^^^^^^^^^^^^^^^^^^^^^^^^^^^^^\n",
            "  File \"/usr/local/lib/python3.11/dist-packages/gradio/blocks.py\", line 2191, in process_api\n",
            "    result = await self.call_function(\n",
            "             ^^^^^^^^^^^^^^^^^^^^^^^^^\n",
            "  File \"/usr/local/lib/python3.11/dist-packages/gradio/blocks.py\", line 1702, in call_function\n",
            "    prediction = await anyio.to_thread.run_sync(  # type: ignore\n",
            "                 ^^^^^^^^^^^^^^^^^^^^^^^^^^^^^^^^^^^^^^^^^^^^^^^\n",
            "  File \"/usr/local/lib/python3.11/dist-packages/anyio/to_thread.py\", line 56, in run_sync\n",
            "    return await get_async_backend().run_sync_in_worker_thread(\n",
            "           ^^^^^^^^^^^^^^^^^^^^^^^^^^^^^^^^^^^^^^^^^^^^^^^^^^^^\n",
            "  File \"/usr/local/lib/python3.11/dist-packages/anyio/_backends/_asyncio.py\", line 2470, in run_sync_in_worker_thread\n",
            "    return await future\n",
            "           ^^^^^^^^^^^^\n",
            "  File \"/usr/local/lib/python3.11/dist-packages/anyio/_backends/_asyncio.py\", line 967, in run\n",
            "    result = context.run(func, *args)\n",
            "             ^^^^^^^^^^^^^^^^^^^^^^^^\n",
            "  File \"/usr/local/lib/python3.11/dist-packages/gradio/utils.py\", line 894, in wrapper\n",
            "    response = f(*args, **kwargs)\n",
            "               ^^^^^^^^^^^^^^^^^^\n",
            "  File \"<ipython-input-7-1367213039>\", line 12, in predict_object\n",
            "    image = image.reshape(1, 64, 64, 3)  # Điều chỉnh theo kích thước model yêu cầu\n",
            "            ^^^^^^^^^^^^^^^^^^^^^^^^^^^\n",
            "ValueError: cannot reshape array of size 34662 into shape (1,64,64,3)\n"
          ]
        },
        {
          "output_type": "stream",
          "name": "stdout",
          "text": [
            "\u001b[1m1/1\u001b[0m \u001b[32m━━━━━━━━━━━━━━━━━━━━\u001b[0m\u001b[37m\u001b[0m \u001b[1m0s\u001b[0m 44ms/step\n",
            "Keyboard interruption in main thread... closing server.\n",
            "Killing tunnel 127.0.0.1:7860 <> https://4ac3860b84684c0732.gradio.live\n"
          ]
        },
        {
          "output_type": "execute_result",
          "data": {
            "text/plain": []
          },
          "metadata": {},
          "execution_count": 7
        }
      ]
    }
  ],
  "metadata": {
    "colab": {
      "toc_visible": true,
      "provenance": []
    },
    "kernelspec": {
      "display_name": "Python 3",
      "name": "python3"
    },
    "language_info": {
      "name": "python"
    }
  },
  "nbformat": 4,
  "nbformat_minor": 0
}